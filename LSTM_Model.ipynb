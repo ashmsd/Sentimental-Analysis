{
  "cells": [
    {
      "cell_type": "code",
      "execution_count": null,
      "metadata": {
        "id": "OoRVOCw8wTD-"
      },
      "outputs": [],
      "source": [
        "import numpy as np\n",
        "import pandas as pd\n",
        "from sklearn.model_selection import train_test_split\n",
        "import matplotlib.pyplot as plt"
      ]
    },
    {
      "cell_type": "code",
      "execution_count": null,
      "metadata": {
        "colab": {
          "base_uri": "https://localhost:8080/"
        },
        "id": "W9nx2FG-wUJa",
        "outputId": "30e57c76-18fa-419b-a91d-fb10e9f6ffe4"
      },
      "outputs": [
        {
          "output_type": "stream",
          "name": "stdout",
          "text": [
            ".................top 10 rows of Dataframe................\n",
            "                                              review sentiment\n",
            "0  One of the other reviewers has mentioned that ...  positive\n",
            "1  A wonderful little production. <br /><br />The...  positive\n",
            "2  I thought this was a wonderful way to spend ti...  positive\n",
            "3  Basically there's a family where a little boy ...  negative\n",
            "4  Petter Mattei's \"Love in the Time of Money\" is...  positive\n",
            "5  Probably my all-time favorite movie, a story o...  positive\n",
            "6  I sure would like to see a resurrection of a u...  positive\n",
            "7  This show was an amazing, fresh & innovative i...  negative\n",
            "8  Encouraged by the positive comments about this...  negative\n",
            "9  If you like original gut wrenching laughter yo...  positive\n",
            "Size of Train dataset: 40000 Size of Test dataset: 10000\n"
          ]
        }
      ],
      "source": [
        "datasetpath = '/content/IMDB Dataset.csv'\n",
        "df = pd.read_csv(datasetpath)\n",
        "\n",
        "print(\".................top 10 rows of Dataframe................\")\n",
        "print(df.head(10))\n",
        "\n",
        "\n",
        "df['sentiment'] = df['sentiment'].apply(lambda x: 1 if x == 'positive' else 0)\n",
        "\n",
        "\n",
        "df = df.sample(frac=1, random_state=1234).reset_index(drop=True)\n",
        "\n",
        "#divide dataset into 80% of train data and 20% test data\n",
        "\n",
        "traindf = df.iloc[:int(len(df)*0.8)]\n",
        "testdf = df.iloc[int(len(df)*0.8):]\n",
        "\n",
        "\n",
        "print(\"Size of Train dataset:\", len(traindf), \"Size of Test dataset:\", len(testdf))"
      ]
    },
    {
      "cell_type": "code",
      "execution_count": null,
      "metadata": {
        "colab": {
          "base_uri": "https://localhost:8080/",
          "height": 363
        },
        "id": "k7d8umIqwY25",
        "outputId": "7bd139df-cfd1-489a-ffd8-ed35a7246682"
      },
      "outputs": [
        {
          "output_type": "execute_result",
          "data": {
            "text/plain": [
              "                                              review  sentiment\n",
              "0  Although this film was made before Dogme emerg...          0\n",
              "1  My grandmother took me and my sister out to se...          0\n",
              "2  Possibly the worst film within the genre in ex...          0\n",
              "3  As long as you keep in mind that the productio...          0\n",
              "4  The plot in Petites Coupures certainly left th...          0\n",
              "5  this is quite possibly the worst acting i have...          0\n",
              "6  I watched this movie alongwith my complete fam...          1\n",
              "7  Ever since I can remember and I'm only 18 my m...          1\n",
              "8  Before this clip, music videos were merely to ...          1\n",
              "9  Just Cause is one of those films that at first...          0"
            ],
            "text/html": [
              "\n",
              "\n",
              "  <div id=\"df-e7785228-5e00-407d-94d2-079977e218b3\">\n",
              "    <div class=\"colab-df-container\">\n",
              "      <div>\n",
              "<style scoped>\n",
              "    .dataframe tbody tr th:only-of-type {\n",
              "        vertical-align: middle;\n",
              "    }\n",
              "\n",
              "    .dataframe tbody tr th {\n",
              "        vertical-align: top;\n",
              "    }\n",
              "\n",
              "    .dataframe thead th {\n",
              "        text-align: right;\n",
              "    }\n",
              "</style>\n",
              "<table border=\"1\" class=\"dataframe\">\n",
              "  <thead>\n",
              "    <tr style=\"text-align: right;\">\n",
              "      <th></th>\n",
              "      <th>review</th>\n",
              "      <th>sentiment</th>\n",
              "    </tr>\n",
              "  </thead>\n",
              "  <tbody>\n",
              "    <tr>\n",
              "      <th>0</th>\n",
              "      <td>Although this film was made before Dogme emerg...</td>\n",
              "      <td>0</td>\n",
              "    </tr>\n",
              "    <tr>\n",
              "      <th>1</th>\n",
              "      <td>My grandmother took me and my sister out to se...</td>\n",
              "      <td>0</td>\n",
              "    </tr>\n",
              "    <tr>\n",
              "      <th>2</th>\n",
              "      <td>Possibly the worst film within the genre in ex...</td>\n",
              "      <td>0</td>\n",
              "    </tr>\n",
              "    <tr>\n",
              "      <th>3</th>\n",
              "      <td>As long as you keep in mind that the productio...</td>\n",
              "      <td>0</td>\n",
              "    </tr>\n",
              "    <tr>\n",
              "      <th>4</th>\n",
              "      <td>The plot in Petites Coupures certainly left th...</td>\n",
              "      <td>0</td>\n",
              "    </tr>\n",
              "    <tr>\n",
              "      <th>5</th>\n",
              "      <td>this is quite possibly the worst acting i have...</td>\n",
              "      <td>0</td>\n",
              "    </tr>\n",
              "    <tr>\n",
              "      <th>6</th>\n",
              "      <td>I watched this movie alongwith my complete fam...</td>\n",
              "      <td>1</td>\n",
              "    </tr>\n",
              "    <tr>\n",
              "      <th>7</th>\n",
              "      <td>Ever since I can remember and I'm only 18 my m...</td>\n",
              "      <td>1</td>\n",
              "    </tr>\n",
              "    <tr>\n",
              "      <th>8</th>\n",
              "      <td>Before this clip, music videos were merely to ...</td>\n",
              "      <td>1</td>\n",
              "    </tr>\n",
              "    <tr>\n",
              "      <th>9</th>\n",
              "      <td>Just Cause is one of those films that at first...</td>\n",
              "      <td>0</td>\n",
              "    </tr>\n",
              "  </tbody>\n",
              "</table>\n",
              "</div>\n",
              "      <button class=\"colab-df-convert\" onclick=\"convertToInteractive('df-e7785228-5e00-407d-94d2-079977e218b3')\"\n",
              "              title=\"Convert this dataframe to an interactive table.\"\n",
              "              style=\"display:none;\">\n",
              "\n",
              "  <svg xmlns=\"http://www.w3.org/2000/svg\" height=\"24px\"viewBox=\"0 0 24 24\"\n",
              "       width=\"24px\">\n",
              "    <path d=\"M0 0h24v24H0V0z\" fill=\"none\"/>\n",
              "    <path d=\"M18.56 5.44l.94 2.06.94-2.06 2.06-.94-2.06-.94-.94-2.06-.94 2.06-2.06.94zm-11 1L8.5 8.5l.94-2.06 2.06-.94-2.06-.94L8.5 2.5l-.94 2.06-2.06.94zm10 10l.94 2.06.94-2.06 2.06-.94-2.06-.94-.94-2.06-.94 2.06-2.06.94z\"/><path d=\"M17.41 7.96l-1.37-1.37c-.4-.4-.92-.59-1.43-.59-.52 0-1.04.2-1.43.59L10.3 9.45l-7.72 7.72c-.78.78-.78 2.05 0 2.83L4 21.41c.39.39.9.59 1.41.59.51 0 1.02-.2 1.41-.59l7.78-7.78 2.81-2.81c.8-.78.8-2.07 0-2.86zM5.41 20L4 18.59l7.72-7.72 1.47 1.35L5.41 20z\"/>\n",
              "  </svg>\n",
              "      </button>\n",
              "\n",
              "\n",
              "\n",
              "    <div id=\"df-9c5767df-979c-4793-b090-efa4607dbb3d\">\n",
              "      <button class=\"colab-df-quickchart\" onclick=\"quickchart('df-9c5767df-979c-4793-b090-efa4607dbb3d')\"\n",
              "              title=\"Suggest charts.\"\n",
              "              style=\"display:none;\">\n",
              "\n",
              "<svg xmlns=\"http://www.w3.org/2000/svg\" height=\"24px\"viewBox=\"0 0 24 24\"\n",
              "     width=\"24px\">\n",
              "    <g>\n",
              "        <path d=\"M19 3H5c-1.1 0-2 .9-2 2v14c0 1.1.9 2 2 2h14c1.1 0 2-.9 2-2V5c0-1.1-.9-2-2-2zM9 17H7v-7h2v7zm4 0h-2V7h2v10zm4 0h-2v-4h2v4z\"/>\n",
              "    </g>\n",
              "</svg>\n",
              "      </button>\n",
              "    </div>\n",
              "\n",
              "<style>\n",
              "  .colab-df-quickchart {\n",
              "    background-color: #E8F0FE;\n",
              "    border: none;\n",
              "    border-radius: 50%;\n",
              "    cursor: pointer;\n",
              "    display: none;\n",
              "    fill: #1967D2;\n",
              "    height: 32px;\n",
              "    padding: 0 0 0 0;\n",
              "    width: 32px;\n",
              "  }\n",
              "\n",
              "  .colab-df-quickchart:hover {\n",
              "    background-color: #E2EBFA;\n",
              "    box-shadow: 0px 1px 2px rgba(60, 64, 67, 0.3), 0px 1px 3px 1px rgba(60, 64, 67, 0.15);\n",
              "    fill: #174EA6;\n",
              "  }\n",
              "\n",
              "  [theme=dark] .colab-df-quickchart {\n",
              "    background-color: #3B4455;\n",
              "    fill: #D2E3FC;\n",
              "  }\n",
              "\n",
              "  [theme=dark] .colab-df-quickchart:hover {\n",
              "    background-color: #434B5C;\n",
              "    box-shadow: 0px 1px 3px 1px rgba(0, 0, 0, 0.15);\n",
              "    filter: drop-shadow(0px 1px 2px rgba(0, 0, 0, 0.3));\n",
              "    fill: #FFFFFF;\n",
              "  }\n",
              "</style>\n",
              "\n",
              "    <script>\n",
              "      async function quickchart(key) {\n",
              "        const containerElement = document.querySelector('#' + key);\n",
              "        const charts = await google.colab.kernel.invokeFunction(\n",
              "            'suggestCharts', [key], {});\n",
              "      }\n",
              "    </script>\n",
              "\n",
              "      <script>\n",
              "\n",
              "function displayQuickchartButton(domScope) {\n",
              "  let quickchartButtonEl =\n",
              "    domScope.querySelector('#df-9c5767df-979c-4793-b090-efa4607dbb3d button.colab-df-quickchart');\n",
              "  quickchartButtonEl.style.display =\n",
              "    google.colab.kernel.accessAllowed ? 'block' : 'none';\n",
              "}\n",
              "\n",
              "        displayQuickchartButton(document);\n",
              "      </script>\n",
              "      <style>\n",
              "    .colab-df-container {\n",
              "      display:flex;\n",
              "      flex-wrap:wrap;\n",
              "      gap: 12px;\n",
              "    }\n",
              "\n",
              "    .colab-df-convert {\n",
              "      background-color: #E8F0FE;\n",
              "      border: none;\n",
              "      border-radius: 50%;\n",
              "      cursor: pointer;\n",
              "      display: none;\n",
              "      fill: #1967D2;\n",
              "      height: 32px;\n",
              "      padding: 0 0 0 0;\n",
              "      width: 32px;\n",
              "    }\n",
              "\n",
              "    .colab-df-convert:hover {\n",
              "      background-color: #E2EBFA;\n",
              "      box-shadow: 0px 1px 2px rgba(60, 64, 67, 0.3), 0px 1px 3px 1px rgba(60, 64, 67, 0.15);\n",
              "      fill: #174EA6;\n",
              "    }\n",
              "\n",
              "    [theme=dark] .colab-df-convert {\n",
              "      background-color: #3B4455;\n",
              "      fill: #D2E3FC;\n",
              "    }\n",
              "\n",
              "    [theme=dark] .colab-df-convert:hover {\n",
              "      background-color: #434B5C;\n",
              "      box-shadow: 0px 1px 3px 1px rgba(0, 0, 0, 0.15);\n",
              "      filter: drop-shadow(0px 1px 2px rgba(0, 0, 0, 0.3));\n",
              "      fill: #FFFFFF;\n",
              "    }\n",
              "  </style>\n",
              "\n",
              "      <script>\n",
              "        const buttonEl =\n",
              "          document.querySelector('#df-e7785228-5e00-407d-94d2-079977e218b3 button.colab-df-convert');\n",
              "        buttonEl.style.display =\n",
              "          google.colab.kernel.accessAllowed ? 'block' : 'none';\n",
              "\n",
              "        async function convertToInteractive(key) {\n",
              "          const element = document.querySelector('#df-e7785228-5e00-407d-94d2-079977e218b3');\n",
              "          const dataTable =\n",
              "            await google.colab.kernel.invokeFunction('convertToInteractive',\n",
              "                                                     [key], {});\n",
              "          if (!dataTable) return;\n",
              "\n",
              "          const docLinkHtml = 'Like what you see? Visit the ' +\n",
              "            '<a target=\"_blank\" href=https://colab.research.google.com/notebooks/data_table.ipynb>data table notebook</a>'\n",
              "            + ' to learn more about interactive tables.';\n",
              "          element.innerHTML = '';\n",
              "          dataTable['output_type'] = 'display_data';\n",
              "          await google.colab.output.renderOutput(dataTable, element);\n",
              "          const docLink = document.createElement('div');\n",
              "          docLink.innerHTML = docLinkHtml;\n",
              "          element.appendChild(docLink);\n",
              "        }\n",
              "      </script>\n",
              "    </div>\n",
              "  </div>\n"
            ]
          },
          "metadata": {},
          "execution_count": 4
        }
      ],
      "source": [
        "traindf.head(10)"
      ]
    },
    {
      "cell_type": "code",
      "execution_count": null,
      "metadata": {
        "colab": {
          "base_uri": "https://localhost:8080/"
        },
        "id": "B_fvW7MqwbXv",
        "outputId": "2f046607-06b2-472e-9944-8c8352a16818"
      },
      "outputs": [
        {
          "output_type": "stream",
          "name": "stderr",
          "text": [
            "[nltk_data] Downloading package stopwords to /root/nltk_data...\n",
            "[nltk_data]   Unzipping corpora/stopwords.zip.\n"
          ]
        }
      ],
      "source": [
        "import nltk\n",
        "nltk.download('stopwords')\n",
        "from nltk.corpus import stopwords\n",
        "stop_words = set(stopwords.words('english')) # to remove all that doesn't carry meaningful information such words a,an,the, off"
      ]
    },
    {
      "cell_type": "code",
      "execution_count": null,
      "metadata": {
        "colab": {
          "base_uri": "https://localhost:8080/",
          "height": 161
        },
        "id": "Mp_83UfVxJUb",
        "outputId": "9feb716d-a56f-4966-9e3a-f5e4c47f65f5"
      },
      "outputs": [
        {
          "output_type": "execute_result",
          "data": {
            "text/plain": [
              "\"I like this presentation - I have read Bleak House and I know it is so difficult to present the entire book as it should be, and even others like Little Dorrit - I have to admit they did a very good show with the staged Nicholas Nickelby. I love Diana Rigg and I could see the pain of Lady Dedlock, even through the expected arrogance of the aristocracy. I am sorry, I think she is the best Lady Dedlock... I am not sure who could have made a better Jarndyce, but I am OK with Mr. Elliott. It is not easy to present these long Dickens' books - Oliver Twist would be easier - this is a long, and if you don't care for all the legal situations can be dreary or boring. I think this presentation is entertaining enough not to be boring. I just LOVED Mr. Smallweed - it can be entertaining. There is always a child - Jo will break your heart here... I think we should be given a chance to judge for ourselves...<br /><br />I have to say I loved the show. Maybe if I read the book again, as I usually do, after seeing the movie, maybe I can be more critical. In the meantime - I think it is a good presentation.\""
            ],
            "application/vnd.google.colaboratory.intrinsic+json": {
              "type": "string"
            }
          },
          "metadata": {},
          "execution_count": 6
        }
      ],
      "source": [
        "text = df.iloc[22]['review'] #returns the 32 entry from dataframe\n",
        "text"
      ]
    },
    {
      "cell_type": "code",
      "execution_count": null,
      "metadata": {
        "colab": {
          "base_uri": "https://localhost:8080/"
        },
        "id": "-Cfu4L06wdMg",
        "outputId": "d84fbf67-17fc-419a-8154-ebd0e1d5bd1f"
      },
      "outputs": [
        {
          "output_type": "stream",
          "name": "stdout",
          "text": [
            "39629\n",
            "['<pad>', 'although', 'film', 'made', 'dogme', 'emerged', 'predominant', 'method', 'filmmaking', 'digital', 'triumphed', 'strike', 'get', 'point', '1991', 'masterpiece', 'clearly', 'anticipated', 'developments', 'corin', 'nemec', 'outstanding', 'ne', \"'\", 'er', 'well', 'author', 'narrator', 'pace', 'slow', 'elegantly', 'cinematography', 'beautiful', 'record', 'next', 'time', 'v', 'guarantee', 'never', 'see', 'better', 'nostalgia', 'rip', 'movie', 'direct', 'video', 'felt', 'good', '!', 'grandmother', 'took', 'sister', 'came', 'theaters', 'back', '1998', 'happily', 'bought', 'tickets', 'popcorn', 'soda', 'walked', 'right', 'theater', 'sat', 'watch', 'audience', 'applauded', 'strongly', 'remember', 'heard', 'people', 'say', 'like', 'thought', 'rather', 'stupid', 'worth', 'seeing', 'eddie', 'murphy', 'hysterical', 'apart', 'whole', 'bad', 'rarely', 'laughed', 'parts', 'also', 'remembered', 'almost', 'hardly', 'even', 'really', 'making', 'animals', 'talk', 'talking', 'exist', 'cartoons']\n"
          ]
        }
      ],
      "source": [
        "import re\n",
        "from collections import Counter\n",
        "from torchtext.data.utils import get_tokenizer\n",
        "\n",
        "tokenizer = get_tokenizer('basic_english')\n",
        "\n",
        "replacements = {\n",
        "    r\"<br /><br />\": \" \",\n",
        "    r\"\\#\": \"\",\n",
        "    r\"http\\S+\": \"URL\",\n",
        "    r\"@\" : \"\",\n",
        "    r\"[^A-Za-z0-9()!?\\'\\`\\\"]\": \" \",\n",
        "    \"\\s{2,}\": \" \"\n",
        "}\n",
        "\n",
        "# we convert all tesxt to lowercase and strips leading/trailing spaces\n",
        "def stringnormalization(text):\n",
        "    text = text.lower().strip()\n",
        "\n",
        "    for pattern, replacement in replacements.items():\n",
        "        text = re.sub(pattern, replacement, text)\n",
        "\n",
        "    return text\n",
        "\n",
        "def tokennormalization(text):\n",
        "    text_tokens = tokenizer(text)\n",
        "    filtered_tokens = [token for token in text_tokens if token not in stop_words]\n",
        "    return filtered_tokens\n",
        "\n",
        "totalsentences = df[\"review\"]\n",
        "totalsentences = totalsentences.apply(stringnormalization)\n",
        "totaltokens = list(totalsentences.apply(tokennormalization))\n",
        "\n",
        "# Collected unique tokens from the dataset and filter based on their frequency\n",
        "wordfrequency = Counter([token for sublist in totaltokens for token in sublist]) #counts frequency of each word\n",
        "\n",
        "# words which occur atleast  5 times will be stored in our vocabulary\n",
        "\n",
        "vocab = []\n",
        "for word, freq in wordfrequency.items():\n",
        "    if freq >= 5:\n",
        "        vocab.append(word)\n",
        "\n",
        "vocab = ['<pad>'] + vocab #only main words are present\n",
        "\n",
        "print(len(vocab))\n",
        "print(vocab[:100])\n",
        "\n",
        "# Count the number of tokens per data point\n",
        "token_counts = []\n",
        "for data_point in totaltokens:\n",
        "    token_counts.append(len(data_point))\n",
        "\n"
      ]
    },
    {
      "cell_type": "code",
      "execution_count": null,
      "metadata": {
        "id": "zM8UqliezYkg"
      },
      "outputs": [],
      "source": [
        "import torch\n",
        "from torch.utils.data import Dataset\n",
        "\n",
        "class CustomDataset(Dataset):\n",
        "    def __init__(self, df, tokenizer, vocab, max_length=500):\n",
        "        self.data = df['review']\n",
        "        self.targets = df['sentiment']\n",
        "        self.max_length = max_length\n",
        "        self.tokenizer = tokenizer\n",
        "        self.vocab_dict = {token: index for index, token in enumerate(vocab)}\n",
        "\n",
        "    def __len__(self):\n",
        "        return len(self.data)\n",
        "\n",
        "    def process_text(self, text):\n",
        "        text = stringnormalization(text)\n",
        "        word_tokens = tokennormalization(text)\n",
        "        return word_tokens\n",
        "\n",
        "    def transform_tokens_to_ids(self, tokens):\n",
        "        truncated_tokens = tokens[:self.max_length]\n",
        "        ids = [self.vocab_dict[word] for word in truncated_tokens if self.vocab_dict.get(word) is not None]\n",
        "        return ids\n",
        "\n",
        "    def __getitem__(self, index):\n",
        "        data_point = self.data.iloc[index]\n",
        "        word_tokens = self.process_text(data_point)\n",
        "        data_ids = self.transform_tokens_to_ids(word_tokens)\n",
        "        target = self.targets.iloc[index]\n",
        "\n",
        "        return torch.tensor(data_ids), target\n"
      ]
    },
    {
      "cell_type": "markdown",
      "metadata": {
        "id": "ivb7wNTeHyXZ"
      },
      "source": [
        "Here it is loading the GloVe word embeddings. The '6B' argument refers to the GloVe model trained on 6 billion words from Wikipedia and Gigaword. The 'dim=100' argument specifies that the word vectors should have 100 dimensions. Creates a 100 dimensional vector for each word"
      ]
    },
    {
      "cell_type": "code",
      "execution_count": null,
      "metadata": {
        "id": "J2007vKu2apw"
      },
      "outputs": [],
      "source": [
        "# from torchtext.vocab import GloVe\n",
        "\n",
        "# glove = GloVe(name='6B', dim=100)\n",
        "\n",
        "# embedding_matrix = np.zeros((len(vocab), 100))\n",
        "\n",
        "# for i, token in enumerate(vocab):\n",
        "#     embedding_matrix[i] = glove[token]\n",
        "\n",
        "# np.save('embeddings.npy', embedding_matrix)"
      ]
    },
    {
      "cell_type": "code",
      "execution_count": null,
      "metadata": {
        "colab": {
          "base_uri": "https://localhost:8080/"
        },
        "id": "67b-xdxGA9r0",
        "outputId": "1c22860e-c62a-4cd3-81a4-f1b245733197"
      },
      "outputs": [
        {
          "output_type": "stream",
          "name": "stderr",
          "text": [
            ".vector_cache/glove.6B.zip: 862MB [02:39, 5.39MB/s]                           \n",
            "100%|█████████▉| 399999/400000 [00:21<00:00, 18888.29it/s]\n"
          ]
        },
        {
          "output_type": "stream",
          "name": "stdout",
          "text": [
            "[[ 0.          0.          0.         ...  0.          0.\n",
            "   0.        ]\n",
            " [-0.31843001  0.33155     0.1735     ... -0.086687    0.1937\n",
            "  -0.22784001]\n",
            " [ 0.19915999 -0.049702    0.24579    ... -0.068109    0.017651\n",
            "   0.06455   ]\n",
            " ...\n",
            " [-0.29157001 -0.61574    -0.18811999 ...  0.042986   -0.43873999\n",
            "  -0.38499999]\n",
            " [-0.55757999 -0.67988998 -0.59139001 ...  0.74598002 -0.028291\n",
            "   0.020271  ]\n",
            " [ 0.24415    -0.33618    -0.22695    ...  0.44402    -0.80962998\n",
            "   0.57736999]]\n"
          ]
        }
      ],
      "source": [
        "from torchtext.vocab import GloVe\n",
        "import numpy as np\n",
        "\n",
        "# Initializing GloVe with 100 dimensional vectors\n",
        "glove = GloVe(name='6B', dim=100)\n",
        "\n",
        "# creating the zero matrix for the embedding matrix\n",
        "embedding_dim = 100\n",
        "vocab_size = len(vocab)\n",
        "embedding_matrix = np.zeros((vocab_size, embedding_dim))\n",
        "\n",
        "# now we will fill embedding matrix with GloVe vectors\n",
        "for i in range(vocab_size):\n",
        "    token = vocab[i]\n",
        "    embedding_matrix[i] = glove[token]\n",
        "\n",
        "print(embedding_matrix)\n",
        "\n",
        "# Save the embedding matrix to a file\n",
        "embedding_filename = 'embeddings.npy'\n",
        "np.save(embedding_filename, embedding_matrix)\n",
        "\n"
      ]
    },
    {
      "cell_type": "code",
      "execution_count": null,
      "metadata": {
        "id": "1todA5QLI9Ef"
      },
      "outputs": [],
      "source": [
        "embeddingmatrix = np.load('embeddings.npy')"
      ]
    },
    {
      "cell_type": "code",
      "execution_count": null,
      "metadata": {
        "colab": {
          "base_uri": "https://localhost:8080/"
        },
        "id": "bpAWXiY2JdHr",
        "outputId": "29257763-4eaa-4b84-9cb1-f86ed94b8176"
      },
      "outputs": [
        {
          "output_type": "execute_result",
          "data": {
            "text/plain": [
              "array([ 2.63000011e-01,  1.26890004e-01,  4.45410013e-01, -1.51669994e-01,\n",
              "        4.23860013e-01,  6.13730013e-01,  2.11879998e-01, -3.79980006e-03,\n",
              "        3.48259985e-01, -2.58320004e-01,  4.24499989e-01,  3.25089991e-01,\n",
              "        6.24350011e-01,  2.34190002e-01,  2.43910000e-01, -2.93599993e-01,\n",
              "        5.73660016e-01, -5.58019988e-02, -1.36510000e-01,  1.23389997e-01,\n",
              "        2.31110007e-02, -7.84580037e-02, -4.28379998e-02, -5.46199977e-01,\n",
              "       -7.32169999e-03, -2.94559985e-01, -6.07760012e-01, -2.28880003e-01,\n",
              "       -3.00089985e-01,  5.98770007e-02,  4.20910001e-01,  3.13309997e-01,\n",
              "       -2.39999995e-01,  3.35629992e-02,  4.51819986e-01, -2.58489996e-01,\n",
              "       -6.36700019e-02, -2.87490010e-01,  7.57569969e-02, -6.61640018e-02,\n",
              "       -8.98770019e-02,  3.08679998e-01,  4.47609991e-01, -3.48690003e-02,\n",
              "       -8.41389969e-02, -3.62379998e-01,  1.86240003e-01,  2.58560002e-01,\n",
              "        1.63010001e-01, -5.76910019e-01,  1.48110002e-01,  1.98520005e-01,\n",
              "        5.39629996e-01,  4.80949998e-01, -2.24280000e-01, -8.79899979e-01,\n",
              "       -7.65049979e-02, -2.13770002e-01,  3.00790012e-01,  2.26999998e-01,\n",
              "        6.30280003e-03,  5.93919992e-01, -4.09369990e-02, -5.04439995e-02,\n",
              "        3.68030012e-01, -4.22299989e-02,  2.19310001e-01, -3.51550013e-01,\n",
              "       -1.89579993e-01, -2.07420006e-01,  3.12929988e-01, -2.57849991e-01,\n",
              "       -6.60739988e-02,  3.77770007e-01, -1.44260004e-01,  3.69310001e-04,\n",
              "        1.65869996e-01, -3.27700004e-02, -8.16290021e-01,  6.58200026e-01,\n",
              "        4.92370017e-02,  4.24780011e-01, -6.76760018e-01, -2.11789995e-01,\n",
              "       -1.27110004e+00, -3.66369992e-01,  1.32090002e-01, -1.14900000e-01,\n",
              "       -2.44619995e-01, -3.01910013e-01, -1.82520002e-01, -2.75110006e-01,\n",
              "        4.81979996e-01, -2.33649999e-01, -7.27860034e-02, -2.50880003e-01,\n",
              "       -4.92330015e-01, -3.74289989e-01, -2.01169997e-01,  1.43610001e-01])"
            ]
          },
          "metadata": {},
          "execution_count": 12
        }
      ],
      "source": [
        "embeddingmatrix[394]"
      ]
    },
    {
      "cell_type": "code",
      "execution_count": null,
      "metadata": {
        "id": "lvMBeCWcJb-u"
      },
      "outputs": [],
      "source": [
        "from torch.nn.utils.rnn import pad_sequence\n",
        "from torch.utils.data import DataLoader\n",
        "\n",
        "def collate_batch(batch):\n",
        "\n",
        "\n",
        "    sorted_batch = sorted(batch, key=lambda x: len(x[0]), reverse=True)\n",
        "\n",
        "    sequences, labels = zip(*sorted_batch)\n",
        "\n",
        "\n",
        "    l = []\n",
        "    for seq in sequences:\n",
        "      l.append(len(seq))\n",
        "\n",
        "\n",
        "    padded_sequences = pad_sequence(sequences, batch_first=True)\n",
        "\n",
        "    return padded_sequences, torch.tensor(labels, dtype=torch.float32)\n",
        "\n",
        "batch_size = 32\n",
        "\n",
        "train_data = CustomDataset(traindf, tokenizer, vocab)\n",
        "test_data = CustomDataset(testdf, tokenizer, vocab)\n",
        "\n",
        "train_dataloader = DataLoader(train_data, batch_size=batch_size, collate_fn=collate_batch, shuffle=True)\n",
        "test_dataloader = DataLoader(test_data, batch_size=batch_size, collate_fn=collate_batch, shuffle=False)\n"
      ]
    },
    {
      "cell_type": "code",
      "execution_count": null,
      "metadata": {
        "colab": {
          "base_uri": "https://localhost:8080/"
        },
        "id": "rbZkt2ZJK-O7",
        "outputId": "fec12a02-d37b-47da-de2c-4222ff3c79ae"
      },
      "outputs": [
        {
          "output_type": "execute_result",
          "data": {
            "text/plain": [
              "0"
            ]
          },
          "metadata": {},
          "execution_count": 14
        }
      ],
      "source": [
        " vocab.index('<pad>')"
      ]
    },
    {
      "cell_type": "code",
      "execution_count": null,
      "metadata": {
        "colab": {
          "base_uri": "https://localhost:8080/"
        },
        "id": "PTHAP1QgLBHT",
        "outputId": "79c15cdb-e38e-4499-98a5-943b02fe7d85"
      },
      "outputs": [
        {
          "output_type": "stream",
          "name": "stdout",
          "text": [
            "tensor([1., 1., 0., 0., 1., 0., 0., 0., 0., 1., 1., 1., 0., 0., 0., 1., 1., 0.,\n",
            "        0., 0., 0., 0., 1., 0., 0., 1., 0., 1., 1., 1., 1., 0.])\n",
            "torch.Size([32, 355])\n",
            "tensor([[ 5179,  5180,    23,  ...,   200,   710,  7054],\n",
            "        [ 2551,  2997,  8238,  ...,     0,     0,     0],\n",
            "        [ 6269,  1619,  3646,  ...,     0,     0,     0],\n",
            "        ...,\n",
            "        [ 1289,  7128, 11570,  ...,     0,     0,     0],\n",
            "        [  113,   529,    43,  ...,     0,     0,     0],\n",
            "        [  594, 14650,    43,  ...,     0,     0,     0]])\n"
          ]
        }
      ],
      "source": [
        "sentence, label = next(iter(train_dataloader))\n",
        "print(label)\n",
        "print(sentence.shape)\n",
        "print(sentence)"
      ]
    },
    {
      "cell_type": "code",
      "execution_count": null,
      "metadata": {
        "id": "wqTNbTgiLFJt"
      },
      "outputs": [],
      "source": [
        "import torch.nn as nn\n",
        "\n",
        "class LSTM(nn.Module):\n",
        "    def __init__(self, vocab_size, embed_size, num_hiddens, num_layers):\n",
        "        super(LSTM, self).__init__()\n",
        "\n",
        "        self.embedding = nn.Embedding(vocab_size, embed_size)\n",
        "        self.encoder = nn.LSTM(embed_size, num_hiddens, num_layers=num_layers, bidirectional=True)\n",
        "        self.decoder = nn.Linear(4*num_hiddens, 1)\n",
        "        self.sigmoid = nn.Sigmoid()\n",
        "\n",
        "    def forward(self, inputs):\n",
        "        embeddings = self.embedding(inputs.T)\n",
        "        self.encoder.flatten_parameters()\n",
        "        outputs, _ = self.encoder(embeddings)\n",
        "        encoding = torch.cat((outputs[0], outputs[-1]), dim=1)\n",
        "        result = self.sigmoid(self.decoder(encoding).squeeze())\n",
        "        return result\n"
      ]
    },
    {
      "cell_type": "code",
      "execution_count": null,
      "metadata": {
        "colab": {
          "base_uri": "https://localhost:8080/"
        },
        "id": "6g5m-bjjMtmy",
        "outputId": "c55bbba1-ec08-4ea5-e4f3-e633e85fe3a9"
      },
      "outputs": [
        {
          "output_type": "execute_result",
          "data": {
            "text/plain": [
              "LSTM(\n",
              "  (embedding): Embedding(39629, 100)\n",
              "  (encoder): LSTM(100, 100, num_layers=2, bidirectional=True)\n",
              "  (decoder): Linear(in_features=400, out_features=1, bias=True)\n",
              "  (sigmoid): Sigmoid()\n",
              ")"
            ]
          },
          "metadata": {},
          "execution_count": 17
        }
      ],
      "source": [
        "embed_size, num_hiddens, num_layers, device = 100, 100, 2, torch.device(\"cuda\" if torch.cuda.is_available() else \"cpu\")\n",
        "\n",
        "network = LSTM(len(vocab), embed_size, num_hiddens, num_layers)\n",
        "\n",
        "network.to(device)\n",
        "\n",
        "def init_weights(module):\n",
        "    if type(module) == nn.Linear:\n",
        "        nn.init.xavier_uniform_(module.weight)\n",
        "    if type(module) == nn.LSTM:\n",
        "        for param in module._flat_weights_names:\n",
        "            if \"weight\" in param:\n",
        "                nn.init.xavier_uniform_(module._parameters[param])\n",
        "network.apply(init_weights)"
      ]
    },
    {
      "cell_type": "code",
      "execution_count": null,
      "metadata": {
        "id": "awX10GbmMwZG"
      },
      "outputs": [],
      "source": [
        "network.embedding.weight.data.copy_(torch.tensor(embedding_matrix))\n",
        "network.embedding.weight.requires_grad = False\n",
        "\n",
        "num_epochs =  10\n",
        "optimizer = torch.optim.Adam(network.parameters(), lr=0.01)\n",
        "loss = nn.BCELoss()"
      ]
    },
    {
      "cell_type": "code",
      "execution_count": null,
      "metadata": {
        "id": "skZZ7aoMAM46"
      },
      "outputs": [],
      "source": [
        "import time\n",
        "import numpy as np\n",
        "import torch\n",
        "import numpy as np\n",
        "from torch.nn import functional as F\n",
        "\n",
        "def train(model, optimizer, num_epochs, train_dataloader, val_dataloader, device, loss_fn):\n",
        "    train_losses = []\n",
        "    train_accuracies = []\n",
        "    val_losses = []\n",
        "    val_accuracies = []\n",
        "\n",
        "    for epoch_i in range(num_epochs):\n",
        "        print(f'======== Epoch {epoch_i+1} / {num_epochs} ========')\n",
        "        print('Training...')\n",
        "\n",
        "        total_train_loss = 0\n",
        "        total_train_acc = 0\n",
        "\n",
        "        model.train()\n",
        "        for i, batch in enumerate(train_dataloader):\n",
        "            inputs, labels = [t.to(device) for t in batch]\n",
        "\n",
        "            optimizer.zero_grad()\n",
        "            outputs = model(inputs)\n",
        "            train_loss = loss_fn(outputs, labels)\n",
        "            correct = sum((outputs>0.5) == labels)\n",
        "            train_acc = float(correct) / float(len(labels.data)) * 100.0\n",
        "\n",
        "\n",
        "            total_train_loss += train_loss.item()\n",
        "            total_train_acc += train_acc\n",
        "\n",
        "\n",
        "            train_loss.backward()\n",
        "            optimizer.step()\n",
        "\n",
        "        avg_train_loss = total_train_loss / len(train_dataloader)\n",
        "        avg_train_acc = total_train_acc / len(train_dataloader)\n",
        "        train_losses.append(avg_train_loss)\n",
        "        train_accuracies.append(avg_train_acc)\n",
        "        print(f'Training Loss: {avg_train_loss:.3f}, Training acc: {avg_train_acc:.3f}')\n",
        "\n",
        "\n",
        "        print('Validation...')\n",
        "\n",
        "        model.eval()\n",
        "        total_val_loss = 0\n",
        "        total_val_acc = 0\n",
        "\n",
        "        with torch.no_grad():\n",
        "            for batch in val_dataloader:\n",
        "                inputs, labels = [t.to(device) for t in batch]\n",
        "                outputs = model(inputs)\n",
        "                val_loss = loss_fn(outputs, labels)\n",
        "                correct = sum((outputs>0.5) == labels)\n",
        "                val_acc = float(correct) / float(len(labels.data)) * 100.0\n",
        "\n",
        "                total_val_loss += val_loss.item()\n",
        "                total_val_acc += val_acc\n",
        "\n",
        "        avg_val_loss = total_val_loss / len(val_dataloader)\n",
        "        avg_val_acc = total_val_acc / len(val_dataloader)\n",
        "        val_losses.append(avg_val_loss)\n",
        "        val_accuracies.append(avg_val_acc)\n",
        "\n",
        "        print(f'Validation Loss: {avg_val_loss:.3f}, Validation acc: {avg_val_acc:.3f}')\n",
        "\n",
        "\n",
        "    return train_losses, val_losses, train_accuracies, val_accuracies\n"
      ]
    },
    {
      "cell_type": "code",
      "execution_count": null,
      "metadata": {
        "colab": {
          "base_uri": "https://localhost:8080/"
        },
        "id": "jvGj2a6vHGK1",
        "outputId": "143b14de-083c-43a3-f31e-5b6cb64d4d58"
      },
      "outputs": [
        {
          "output_type": "stream",
          "name": "stdout",
          "text": [
            "======== Epoch 1 / 10 ========\n",
            "Training...\n",
            "Training Loss: 0.432, Training acc: 79.355\n",
            "Validation...\n",
            "Validation Loss: 0.341, Validation acc: 85.603\n",
            "======== Epoch 2 / 10 ========\n",
            "Training...\n",
            "Training Loss: 0.334, Training acc: 85.925\n",
            "Validation...\n",
            "Validation Loss: 0.321, Validation acc: 86.442\n",
            "======== Epoch 3 / 10 ========\n",
            "Training...\n",
            "Training Loss: 0.308, Training acc: 87.138\n",
            "Validation...\n",
            "Validation Loss: 0.304, Validation acc: 87.370\n",
            "======== Epoch 4 / 10 ========\n",
            "Training...\n",
            "Training Loss: 0.278, Training acc: 88.562\n",
            "Validation...\n",
            "Validation Loss: 0.307, Validation acc: 87.061\n",
            "======== Epoch 5 / 10 ========\n",
            "Training...\n",
            "Training Loss: 0.265, Training acc: 89.175\n",
            "Validation...\n",
            "Validation Loss: 0.305, Validation acc: 87.111\n",
            "======== Epoch 6 / 10 ========\n",
            "Training...\n",
            "Training Loss: 0.251, Training acc: 89.775\n",
            "Validation...\n",
            "Validation Loss: 0.312, Validation acc: 87.320\n",
            "======== Epoch 7 / 10 ========\n",
            "Training...\n",
            "Training Loss: 0.244, Training acc: 90.075\n",
            "Validation...\n",
            "Validation Loss: 0.320, Validation acc: 86.122\n",
            "======== Epoch 8 / 10 ========\n",
            "Training...\n",
            "Training Loss: 0.264, Training acc: 89.105\n",
            "Validation...\n",
            "Validation Loss: 0.327, Validation acc: 86.422\n",
            "======== Epoch 9 / 10 ========\n",
            "Training...\n",
            "Training Loss: 0.253, Training acc: 89.493\n",
            "Validation...\n",
            "Validation Loss: 0.324, Validation acc: 87.210\n",
            "======== Epoch 10 / 10 ========\n",
            "Training...\n",
            "Training Loss: 0.238, Training acc: 90.265\n",
            "Validation...\n",
            "Validation Loss: 0.321, Validation acc: 87.280\n"
          ]
        }
      ],
      "source": [
        "train_losses, test_losses, train_accuracies, test_accuracies = train(network, optimizer, num_epochs, train_dataloader,\n",
        "                                          test_dataloader, device, loss)"
      ]
    },
    {
      "cell_type": "code",
      "execution_count": null,
      "metadata": {
        "colab": {
          "base_uri": "https://localhost:8080/",
          "height": 467
        },
        "id": "VzQA3CXIHLWb",
        "outputId": "a1725fbc-6699-4c93-dc94-6f7b81d8bb51"
      },
      "outputs": [
        {
          "output_type": "display_data",
          "data": {
            "text/plain": [
              "<Figure size 1200x500 with 2 Axes>"
            ],
            "image/png": "[encoded data removed]"
          },
          "metadata": {}
        }
      ],
      "source": [
        "def plot_metrics(train_losses, val_losses, train_accuracies, val_accuracies):\n",
        "    plt.figure(figsize=(12, 5))\n",
        "\n",
        "    plt.subplot(1, 2, 1)\n",
        "    plt.plot(train_losses, label='Train Loss')\n",
        "    plt.plot(val_losses, label='Validation Loss')\n",
        "    plt.xlabel(\"Epoch\")\n",
        "    plt.ylabel(\"Loss\")\n",
        "    plt.legend()\n",
        "    plt.title(\"Losses over Epochs\")\n",
        "\n",
        "    plt.subplot(1, 2, 2)\n",
        "    plt.plot(train_accuracies, label='Train Accuracy')\n",
        "    plt.plot(val_accuracies, label='Validation Accuracy')\n",
        "    plt.ylim((50, 100))\n",
        "    plt.xlabel(\"Epoch\")\n",
        "    plt.ylabel(\"Accuracy\")\n",
        "    plt.legend()\n",
        "    plt.title(\"Accuracies over Epochs\")\n",
        "\n",
        "    plt.tight_layout()\n",
        "    plt.show()\n",
        "\n",
        "plot_metrics(train_losses, test_losses, train_accuracies, test_accuracies)\n"
      ]
    },
    {
      "cell_type": "code",
      "execution_count": null,
      "metadata": {
        "colab": {
          "base_uri": "https://localhost:8080/"
        },
        "id": "PhbX2SuVvpry",
        "outputId": "329a2651-9335-4f0d-d188-550f905081cd"
      },
      "outputs": [
        {
          "output_type": "stream",
          "name": "stdout",
          "text": [
            "Sentence 14050: Richard Attenborough is a director whose name is synonymous with the Academy Award winning 'Gandhi', back in '83. I didn't know of any other work of his till i recently came across 'Cry Freedom', released back in 1987. While it may not have been as p...\n",
            "Actual Sentiment: positive\n",
            "Predicted Sentiment: positive\n",
            "--------------------------------------------------\n",
            "Sentence 36681: The larger-than-life figures of Wyatt Earp and Bat Masterson, and the specters of George Armstrong Custer and Sitting Bull, loom over director Anthony Mann's hugely entertaining first western with James Stewart. Although Stewart's quest to avenge his...\n",
            "Actual Sentiment: positive\n",
            "Predicted Sentiment: positive\n",
            "--------------------------------------------------\n",
            "Sentence 19128: I recently had to watch this for a project in a Sociology class and thought it was absolutely the worst movie I have ever had to sit through. It was like bad a bad cinemax movie with all the \"good bits\" taken out. Bad acting, the fake documentary set...\n",
            "Actual Sentiment: negative\n",
            "Predicted Sentiment: negative\n",
            "--------------------------------------------------\n",
            "Sentence 32421: DIG! is funny, fun, amusing, interesting, stylish, and very well done. Knowing that it was made on such a shoestring budget over 7 years it is amazing that such a story can be told, especially with such style and substance. If you are a music fan or ...\n",
            "Actual Sentiment: positive\n",
            "Predicted Sentiment: positive\n",
            "--------------------------------------------------\n",
            "Sentence 12809: Now all the kids and teenagers of Springwood, Ohio are all dead expect for one teenager (Shon Greenblatt) is still alive. Freddy (Robert Englund) is letting him go and the teenager doesn't have much of a memory, when he's arriving in a new town. When...\n",
            "Actual Sentiment: positive\n",
            "Predicted Sentiment: positive\n",
            "--------------------------------------------------\n",
            "Sentence 27476: I'm glad I read the Sarah Waters novel first, since I had my own pictures of the characters in my head at the time. The ones cast for this production, however, were not at all disappointing - in fact, after I got used to Rachael Stirling as Nan, I th...\n",
            "Actual Sentiment: positive\n",
            "Predicted Sentiment: positive\n",
            "--------------------------------------------------\n",
            "Sentence 42889: World At War is perhaps the greatest documentary series of all time. The historical research is virtually flawless. Even after a quarter century, it is the most accurate and definitive documentary about WW2. An invaluable historical work that include...\n",
            "Actual Sentiment: positive\n",
            "Predicted Sentiment: positive\n",
            "--------------------------------------------------\n",
            "Sentence 40895: I saw Beyond Rangoon about 20 times, it was THAT GOOD. At first when I watched it, I saw the story of Laura Bowman, but later, after multiple showings, I realised that this also was a parallel documentary. It came to be in my mind, a story about Aung...\n",
            "Actual Sentiment: positive\n",
            "Predicted Sentiment: positive\n",
            "--------------------------------------------------\n",
            "Sentence 22383: When I found this film in my local videostore I expected it to be another cheesy American vampire film in the same vein of \"The Lost Boys\"(1987).To my surprise \"To Die for\" is a really good movie.It's a little bit corny at times,but still there are e...\n",
            "Actual Sentiment: positive\n",
            "Predicted Sentiment: positive\n",
            "--------------------------------------------------\n",
            "Sentence 11868: Crazed Shotgun toting-incest driven-revenge seeking truck drivers & obsessive control disorder \"daddy raped me when I was 12\" handcuff carrying, all latex wearing prostitutes is just a few of the character you will be introduced to in this complete d...\n",
            "Actual Sentiment: negative\n",
            "Predicted Sentiment: negative\n",
            "--------------------------------------------------\n"
          ]
        }
      ],
      "source": [
        "def predict_sentiment(network, vocab_dict, sequence):\n",
        "    sequence = tokenizer(sequence)\n",
        "    sequence = [vocab_dict.get(word, vocab_dict['<pad>']) for word in sequence]\n",
        "\n",
        "    sequence = torch.tensor([sequence], device=device)\n",
        "    output = network(sequence)\n",
        "    return 'positive' if output > 0.5 else 'negative'\n",
        "\n",
        "vocab_dict = {token: index for index, token in enumerate(vocab)}\n",
        "\n",
        "# we are selecting 10 random sentences from the dataset\n",
        "random_samples = df.sample(10)\n",
        "\n",
        "\n",
        "for i, row in random_samples.iterrows():\n",
        "    sentence = row['review']\n",
        "    actual_sentiment = 'positive' if row['sentiment'] == 1 else 'negative'\n",
        "    predicted_sentiment = predict_sentiment(network, vocab_dict, sentence)\n",
        "\n",
        "    print(f\"Sentence {i+1}: {sentence[:250]}...\")\n",
        "    print(f\"Actual Sentiment: {actual_sentiment}\")\n",
        "    print(f\"Predicted Sentiment: {predicted_sentiment}\")\n",
        "    print(\"-\"*50)"
      ]
    },
    {
      "cell_type": "markdown",
      "metadata": {
        "id": "fr5MfT2fL2ek"
      },
      "source": [
        "learning rate 0.001"
      ]
    },
    {
      "cell_type": "code",
      "execution_count": null,
      "metadata": {
        "id": "0FuDAyzVL12Z"
      },
      "outputs": [],
      "source": [
        "network.embedding.weight.data.copy_(torch.tensor(embedding_matrix))\n",
        "network.embedding.weight.requires_grad = False\n",
        "\n",
        "num_epochs =  10\n",
        "optimizer = torch.optim.Adam(network.parameters(), lr=0.001)\n",
        "loss = nn.BCELoss()"
      ]
    },
    {
      "cell_type": "code",
      "execution_count": null,
      "metadata": {
        "id": "aoxRWl8tMKoh"
      },
      "outputs": [],
      "source": [
        "import time\n",
        "import numpy as np\n",
        "import torch\n",
        "import numpy as np\n",
        "from torch.nn import functional as F\n",
        "\n",
        "def train(model, optimizer, num_epochs, train_dataloader, val_dataloader, device, loss_fn):\n",
        "    train_losses = []\n",
        "    train_accuracies = []\n",
        "    val_losses = []\n",
        "    val_accuracies = []\n",
        "\n",
        "    for epoch_i in range(num_epochs):\n",
        "        print(f'======== Epoch {epoch_i+1} / {num_epochs} ========')\n",
        "        print('Training...')\n",
        "\n",
        "        total_train_loss = 0\n",
        "        total_train_acc = 0\n",
        "\n",
        "        model.train()\n",
        "        for i, batch in enumerate(train_dataloader):\n",
        "            inputs, labels = [t.to(device) for t in batch]\n",
        "\n",
        "            optimizer.zero_grad()\n",
        "            outputs = model(inputs)\n",
        "            train_loss = loss_fn(outputs, labels)\n",
        "            correct = sum((outputs>0.5) == labels)\n",
        "            train_acc = float(correct) / float(len(labels.data)) * 100.0\n",
        "\n",
        "\n",
        "            total_train_loss += train_loss.item()\n",
        "            total_train_acc += train_acc\n",
        "            train_loss.backward()\n",
        "            optimizer.step()\n",
        "\n",
        "        avg_train_loss = total_train_loss / len(train_dataloader)\n",
        "        avg_train_acc = total_train_acc / len(train_dataloader)\n",
        "        train_losses.append(avg_train_loss)\n",
        "        train_accuracies.append(avg_train_acc)\n",
        "        print(f'Training Loss: {avg_train_loss:.3f}, Training acc: {avg_train_acc:.3f}')\n",
        "\n",
        "\n",
        "        print('Validation...')\n",
        "\n",
        "        model.eval()\n",
        "        total_val_loss = 0\n",
        "        total_val_acc = 0\n",
        "\n",
        "        with torch.no_grad():\n",
        "            for batch in val_dataloader:\n",
        "                inputs, labels = [t.to(device) for t in batch]\n",
        "                outputs = model(inputs)\n",
        "                val_loss = loss_fn(outputs, labels)\n",
        "                correct = sum((outputs>0.5) == labels)\n",
        "                val_acc = float(correct) / float(len(labels.data)) * 100.0\n",
        "\n",
        "                total_val_loss += val_loss.item()\n",
        "                total_val_acc += val_acc\n",
        "\n",
        "        avg_val_loss = total_val_loss / len(val_dataloader)\n",
        "        avg_val_acc = total_val_acc / len(val_dataloader)\n",
        "        val_losses.append(avg_val_loss)\n",
        "        val_accuracies.append(avg_val_acc)\n",
        "\n",
        "        print(f'Validation Loss: {avg_val_loss:.3f}, Validation acc: {avg_val_acc:.3f}')\n",
        "\n",
        "\n",
        "    return train_losses, val_losses, train_accuracies, val_accuracies\n"
      ]
    },
    {
      "cell_type": "code",
      "execution_count": null,
      "metadata": {
        "colab": {
          "base_uri": "https://localhost:8080/"
        },
        "id": "lnxfEpHzMLRH",
        "outputId": "4332894e-ca79-4f43-d4ae-5674b10de71b"
      },
      "outputs": [
        {
          "output_type": "stream",
          "name": "stdout",
          "text": [
            "======== Epoch 1 / 10 ========\n",
            "Training...\n",
            "Training Loss: 0.174, Training acc: 93.075\n",
            "Validation...\n",
            "Validation Loss: 0.337, Validation acc: 87.530\n",
            "======== Epoch 2 / 10 ========\n",
            "Training...\n",
            "Training Loss: 0.139, Training acc: 94.843\n",
            "Validation...\n",
            "Validation Loss: 0.364, Validation acc: 87.640\n",
            "======== Epoch 3 / 10 ========\n",
            "Training...\n",
            "Training Loss: 0.117, Training acc: 95.815\n",
            "Validation...\n",
            "Validation Loss: 0.395, Validation acc: 87.570\n",
            "======== Epoch 4 / 10 ========\n",
            "Training...\n",
            "Training Loss: 0.098, Training acc: 96.677\n",
            "Validation...\n",
            "Validation Loss: 0.465, Validation acc: 87.829\n",
            "======== Epoch 5 / 10 ========\n",
            "Training...\n",
            "Training Loss: 0.085, Training acc: 97.210\n",
            "Validation...\n",
            "Validation Loss: 0.452, Validation acc: 87.510\n",
            "======== Epoch 6 / 10 ========\n",
            "Training...\n",
            "Training Loss: 0.070, Training acc: 97.830\n",
            "Validation...\n",
            "Validation Loss: 0.500, Validation acc: 87.560\n",
            "======== Epoch 7 / 10 ========\n",
            "Training...\n",
            "Training Loss: 0.059, Training acc: 98.282\n",
            "Validation...\n",
            "Validation Loss: 0.576, Validation acc: 87.570\n",
            "======== Epoch 8 / 10 ========\n",
            "Training...\n",
            "Training Loss: 0.049, Training acc: 98.675\n",
            "Validation...\n",
            "Validation Loss: 0.650, Validation acc: 87.290\n",
            "======== Epoch 9 / 10 ========\n",
            "Training...\n",
            "Training Loss: 0.041, Training acc: 98.847\n",
            "Validation...\n",
            "Validation Loss: 0.698, Validation acc: 87.370\n",
            "======== Epoch 10 / 10 ========\n",
            "Training...\n",
            "Training Loss: 0.035, Training acc: 99.060\n",
            "Validation...\n",
            "Validation Loss: 0.795, Validation acc: 87.310\n"
          ]
        }
      ],
      "source": [
        "train_losses, test_losses, train_accuracies, test_accuracies = train(network, optimizer, num_epochs, train_dataloader,\n",
        "                                          test_dataloader, device, loss)"
      ]
    },
    {
      "cell_type": "code",
      "execution_count": null,
      "metadata": {
        "colab": {
          "base_uri": "https://localhost:8080/",
          "height": 467
        },
        "id": "cgSq3rRqMVyE",
        "outputId": "e331045f-4975-44bc-82bd-fe4181de4449"
      },
      "outputs": [
        {
          "output_type": "display_data",
          "data": {
            "text/plain": [
              "<Figure size 1200x500 with 2 Axes>"
            ],
            "image/png": "[encoded data removed]"
          },
          "metadata": {}
        }
      ],
      "source": [
        "def plot_metrics(train_losses, val_losses, train_accuracies, val_accuracies):\n",
        "    plt.figure(figsize=(12, 5))\n",
        "\n",
        "    plt.subplot(1, 2, 1)\n",
        "    plt.plot(train_losses, label='Train Loss')\n",
        "    plt.plot(val_losses, label='Validation Loss')\n",
        "    plt.xlabel(\"Epoch\")\n",
        "    plt.ylabel(\"Loss\")\n",
        "    plt.legend()\n",
        "    plt.title(\"Losses over Epochs\")\n",
        "\n",
        "    plt.subplot(1, 2, 2)\n",
        "    plt.plot(train_accuracies, label='Train Accuracy')\n",
        "    plt.plot(val_accuracies, label='Validation Accuracy')\n",
        "    plt.ylim((50, 100))\n",
        "    plt.xlabel(\"Epoch\")\n",
        "    plt.ylabel(\"Accuracy\")\n",
        "    plt.legend()\n",
        "    plt.title(\"Accuracies over Epochs\")\n",
        "\n",
        "    plt.tight_layout()\n",
        "    plt.show()\n",
        "\n",
        "plot_metrics(train_losses, test_losses, train_accuracies, test_accuracies)\n"
      ]
    },
    {
      "cell_type": "code",
      "execution_count": null,
      "metadata": {
        "colab": {
          "base_uri": "https://localhost:8080/"
        },
        "id": "otfybw9wMdyp",
        "outputId": "97ba409f-f102-4df9-fcd0-2e436fd54dfa"
      },
      "outputs": [
        {
          "output_type": "stream",
          "name": "stdout",
          "text": [
            "Sentence 42146: David Cronenberg's `eXistenZ' is a well designed reflection of the philosophy of existentialism. It addresses the problems of a culture that is plugged into technology that it can no longer distinguish between fantasy and reality or between the organ...\n",
            "Actual Sentiment: positive\n",
            "Predicted Sentiment: positive\n",
            "--------------------------------------------------\n",
            "Sentence 12460: With all the hype surrounding the stars of the movie, this movie left me wanting. I expected a much better movie considering the inclusion of the talents of Murphy, De Niro and Russo but found that the movie fell flat on it's face. Comedy sequences w...\n",
            "Actual Sentiment: negative\n",
            "Predicted Sentiment: negative\n",
            "--------------------------------------------------\n",
            "Sentence 37250: Not even Bob Hope, escorted by a raft of fine character actors, can save this poorly written attempt at wartime comedy, as his patented timing has little which which to work. The plot involves a Hollywood film star named Don Bolton (Hope), and his at...\n",
            "Actual Sentiment: negative\n",
            "Predicted Sentiment: negative\n",
            "--------------------------------------------------\n",
            "Sentence 16251: The series does not start as it means to go on. Although it's first two seasons are crammed with incredibly average episodes, as well as numerous duds, afterwards the pace picks up and one of the finest space operas is born. The first ever episode of...\n",
            "Actual Sentiment: negative\n",
            "Predicted Sentiment: positive\n",
            "--------------------------------------------------\n",
            "Sentence 34541: I've never been a fan of Farrah Fawcett...Until now. She was truly amazing in this movie. The emotion she must have gone through shooting re-take after re-take doesn't bare thinking about. This was a very hard movie to watch, the subject matter is de...\n",
            "Actual Sentiment: positive\n",
            "Predicted Sentiment: negative\n",
            "--------------------------------------------------\n",
            "Sentence 44297: I have seen a few of Fred Carpenter's movies on Showtime, Pay Per View and video/DVD and I enjoyed most of these films especially with a few beers, (Carpenter knows how to entertain)\"EDDIE MONROE\" and \"MURDERED INNOCENCE\" are my favorites. I recently...\n",
            "Actual Sentiment: positive\n",
            "Predicted Sentiment: positive\n",
            "--------------------------------------------------\n",
            "Sentence 27843: In the spirit of the Great Space Coaster, but a few years earlier.<br /><br />Hot Fudge was one of the psychedelic kid's shows that I grew up on. Seymour was a big, fuzzy, green puppet, with a crescent smile of enormous teeth which nearly split his h...\n",
            "Actual Sentiment: positive\n",
            "Predicted Sentiment: negative\n",
            "--------------------------------------------------\n",
            "Sentence 629: Douglas Sirk directs this over-acted drama about the unhappy affluent. Kyle Hadley(Robert Stack)and Mitch Wayne(Rock Hudson) are boyhood friends with different looks on life. Kyle is the womanizing son of an oil tycoon; Mitch works for the Hadley Oil...\n",
            "Actual Sentiment: positive\n",
            "Predicted Sentiment: positive\n",
            "--------------------------------------------------\n",
            "Sentence 43691: After reading about this documentary, I rented it and watched it with my teenage children. It was amazingly well-balanced, showing each side's perspective and leaving many questions unanswered. This is as it should be. I don't watch a documentary to ...\n",
            "Actual Sentiment: positive\n",
            "Predicted Sentiment: positive\n",
            "--------------------------------------------------\n",
            "Sentence 7118: I love so much about this movie: the music, the cinematography, the acting, the story, and all the Mormon clichés. Just because they are clichés doesn't mean they aren't true! This is not perfect, it is a movie after all. Though excommunications are ...\n",
            "Actual Sentiment: positive\n",
            "Predicted Sentiment: positive\n",
            "--------------------------------------------------\n"
          ]
        }
      ],
      "source": [
        "def predict_sentiment(network, vocab_dict, sequence):\n",
        "    sequence = tokenizer(sequence)\n",
        "    sequence = [vocab_dict.get(word, vocab_dict['<pad>']) for word in sequence]\n",
        "\n",
        "    sequence = torch.tensor([sequence], device=device)\n",
        "    output = network(sequence)\n",
        "    return 'positive' if output > 0.5 else 'negative'\n",
        "\n",
        "# Your vocab dictionary\n",
        "vocab_dict = {token: index for index, token in enumerate(vocab)}\n",
        "\n",
        "# Select 10 random sentences from the dataset\n",
        "random_samples = df.sample(10)\n",
        "\n",
        "# Predict sentiment for each sentence\n",
        "for i, row in random_samples.iterrows():\n",
        "    sentence = row['review']\n",
        "    actual_sentiment = 'positive' if row['sentiment'] == 1 else 'negative'\n",
        "    predicted_sentiment = predict_sentiment(network, vocab_dict, sentence)\n",
        "\n",
        "    print(f\"Sentence {i+1}: {sentence[:250]}...\")\n",
        "    print(f\"Actual Sentiment: {actual_sentiment}\")\n",
        "    print(f\"Predicted Sentiment: {predicted_sentiment}\")\n",
        "    print(\"-\"*50)"
      ]
    },
    {
      "cell_type": "code",
      "execution_count": null,
      "metadata": {
        "id": "F7SEe1ywMwMD"
      },
      "outputs": [],
      "source": []
    }
  ],
  "metadata": {
    "accelerator": "GPU",
    "colab": {
      "provenance": []
    },
    "kernelspec": {
      "display_name": "Python 3",
      "name": "python3"
    },
    "language_info": {
      "name": "python"
    }
  },
  "nbformat": 4,
  "nbformat_minor": 0
}