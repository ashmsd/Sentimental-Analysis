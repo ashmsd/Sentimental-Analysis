{
  "cells": [
    {
      "cell_type": "code",
      "execution_count": 1,
      "metadata": {
        "id": "OoRVOCw8wTD-"
      },
      "outputs": [],
      "source": [
        "import numpy as np\n",
        "import pandas as pd\n",
        "from sklearn.model_selection import train_test_split\n",
        "import matplotlib.pyplot as plt"
      ]
    },
    {
      "cell_type": "code",
      "execution_count": 3,
      "metadata": {
        "colab": {
          "base_uri": "https://localhost:8080/"
        },
        "id": "W9nx2FG-wUJa",
        "outputId": "f1c67bf3-38ae-410b-8788-edb8322b23a7"
      },
      "outputs": [
        {
          "name": "stdout",
          "output_type": "stream",
          "text": [
            ".................top 10 rows of Dataframe................\n",
            "                                              review sentiment\n",
            "0  One of the other reviewers has mentioned that ...  positive\n",
            "1  A wonderful little production. <br /><br />The...  positive\n",
            "2  I thought this was a wonderful way to spend ti...  positive\n",
            "3  Basically there's a family where a little boy ...  negative\n",
            "4  Petter Mattei's \"Love in the Time of Money\" is...  positive\n",
            "5  Probably my all-time favorite movie, a story o...  positive\n",
            "6  I sure would like to see a resurrection of a u...  positive\n",
            "7  This show was an amazing, fresh & innovative i...  negative\n",
            "8  Encouraged by the positive comments about this...  negative\n",
            "9  If you like original gut wrenching laughter yo...  positive\n",
            "Size of Train dataset: 40000 Size of Test dataset: 10000\n"
          ]
        }
      ],
      "source": [
        "datasetpath = '/content/IMDB Dataset.csv'\n",
        "df = pd.read_csv(datasetpath)\n",
        "\n",
        "print(\".................top 10 rows of Dataframe................\")\n",
        "print(df.head(10))\n",
        "\n",
        "\n",
        "df['sentiment'] = df['sentiment'].apply(lambda x: 1 if x == 'positive' else 0)\n",
        "\n",
        "\n",
        "df = df.sample(frac=1, random_state=1234).reset_index(drop=True)\n",
        "\n",
        "#divide dataset into 80% of train data and 20% test data\n",
        "\n",
        "traindf = df.iloc[:int(len(df)*0.8)]\n",
        "testdf = df.iloc[int(len(df)*0.8):]\n",
        "\n",
        "\n",
        "print(\"Size of Train dataset:\", len(traindf), \"Size of Test dataset:\", len(testdf))"
      ]
    },
    {
      "cell_type": "code",
      "execution_count": 4,
      "metadata": {
        "colab": {
          "base_uri": "https://localhost:8080/",
          "height": 363
        },
        "id": "k7d8umIqwY25",
        "outputId": "dbee805c-25f7-4595-b77e-f37621325f9f"
      },
      "outputs": [
        {
          "data": {
            "text/html": [
              "\n",
              "\n",
              "  <div id=\"df-87414947-19bc-472e-8930-af10cec076bf\">\n",
              "    <div class=\"colab-df-container\">\n",
              "      <div>\n",
              "<style scoped>\n",
              "    .dataframe tbody tr th:only-of-type {\n",
              "        vertical-align: middle;\n",
              "    }\n",
              "\n",
              "    .dataframe tbody tr th {\n",
              "        vertical-align: top;\n",
              "    }\n",
              "\n",
              "    .dataframe thead th {\n",
              "        text-align: right;\n",
              "    }\n",
              "</style>\n",
              "<table border=\"1\" class=\"dataframe\">\n",
              "  <thead>\n",
              "    <tr style=\"text-align: right;\">\n",
              "      <th></th>\n",
              "      <th>review</th>\n",
              "      <th>sentiment</th>\n",
              "    </tr>\n",
              "  </thead>\n",
              "  <tbody>\n",
              "    <tr>\n",
              "      <th>0</th>\n",
              "      <td>Although this film was made before Dogme emerg...</td>\n",
              "      <td>0</td>\n",
              "    </tr>\n",
              "    <tr>\n",
              "      <th>1</th>\n",
              "      <td>My grandmother took me and my sister out to se...</td>\n",
              "      <td>0</td>\n",
              "    </tr>\n",
              "    <tr>\n",
              "      <th>2</th>\n",
              "      <td>Possibly the worst film within the genre in ex...</td>\n",
              "      <td>0</td>\n",
              "    </tr>\n",
              "    <tr>\n",
              "      <th>3</th>\n",
              "      <td>As long as you keep in mind that the productio...</td>\n",
              "      <td>0</td>\n",
              "    </tr>\n",
              "    <tr>\n",
              "      <th>4</th>\n",
              "      <td>The plot in Petites Coupures certainly left th...</td>\n",
              "      <td>0</td>\n",
              "    </tr>\n",
              "    <tr>\n",
              "      <th>5</th>\n",
              "      <td>this is quite possibly the worst acting i have...</td>\n",
              "      <td>0</td>\n",
              "    </tr>\n",
              "    <tr>\n",
              "      <th>6</th>\n",
              "      <td>I watched this movie alongwith my complete fam...</td>\n",
              "      <td>1</td>\n",
              "    </tr>\n",
              "    <tr>\n",
              "      <th>7</th>\n",
              "      <td>Ever since I can remember and I'm only 18 my m...</td>\n",
              "      <td>1</td>\n",
              "    </tr>\n",
              "    <tr>\n",
              "      <th>8</th>\n",
              "      <td>Before this clip, music videos were merely to ...</td>\n",
              "      <td>1</td>\n",
              "    </tr>\n",
              "    <tr>\n",
              "      <th>9</th>\n",
              "      <td>Just Cause is one of those films that at first...</td>\n",
              "      <td>0</td>\n",
              "    </tr>\n",
              "  </tbody>\n",
              "</table>\n",
              "</div>\n",
              "      <button class=\"colab-df-convert\" onclick=\"convertToInteractive('df-87414947-19bc-472e-8930-af10cec076bf')\"\n",
              "              title=\"Convert this dataframe to an interactive table.\"\n",
              "              style=\"display:none;\">\n",
              "\n",
              "  <svg xmlns=\"http://www.w3.org/2000/svg\" height=\"24px\"viewBox=\"0 0 24 24\"\n",
              "       width=\"24px\">\n",
              "    <path d=\"M0 0h24v24H0V0z\" fill=\"none\"/>\n",
              "    <path d=\"M18.56 5.44l.94 2.06.94-2.06 2.06-.94-2.06-.94-.94-2.06-.94 2.06-2.06.94zm-11 1L8.5 8.5l.94-2.06 2.06-.94-2.06-.94L8.5 2.5l-.94 2.06-2.06.94zm10 10l.94 2.06.94-2.06 2.06-.94-2.06-.94-.94-2.06-.94 2.06-2.06.94z\"/><path d=\"M17.41 7.96l-1.37-1.37c-.4-.4-.92-.59-1.43-.59-.52 0-1.04.2-1.43.59L10.3 9.45l-7.72 7.72c-.78.78-.78 2.05 0 2.83L4 21.41c.39.39.9.59 1.41.59.51 0 1.02-.2 1.41-.59l7.78-7.78 2.81-2.81c.8-.78.8-2.07 0-2.86zM5.41 20L4 18.59l7.72-7.72 1.47 1.35L5.41 20z\"/>\n",
              "  </svg>\n",
              "      </button>\n",
              "\n",
              "\n",
              "\n",
              "    <div id=\"df-34cad83a-5cee-4d8f-b59d-2ff3322719ef\">\n",
              "      <button class=\"colab-df-quickchart\" onclick=\"quickchart('df-34cad83a-5cee-4d8f-b59d-2ff3322719ef')\"\n",
              "              title=\"Suggest charts.\"\n",
              "              style=\"display:none;\">\n",
              "\n",
              "<svg xmlns=\"http://www.w3.org/2000/svg\" height=\"24px\"viewBox=\"0 0 24 24\"\n",
              "     width=\"24px\">\n",
              "    <g>\n",
              "        <path d=\"M19 3H5c-1.1 0-2 .9-2 2v14c0 1.1.9 2 2 2h14c1.1 0 2-.9 2-2V5c0-1.1-.9-2-2-2zM9 17H7v-7h2v7zm4 0h-2V7h2v10zm4 0h-2v-4h2v4z\"/>\n",
              "    </g>\n",
              "</svg>\n",
              "      </button>\n",
              "    </div>\n",
              "\n",
              "<style>\n",
              "  .colab-df-quickchart {\n",
              "    background-color: #E8F0FE;\n",
              "    border: none;\n",
              "    border-radius: 50%;\n",
              "    cursor: pointer;\n",
              "    display: none;\n",
              "    fill: #1967D2;\n",
              "    height: 32px;\n",
              "    padding: 0 0 0 0;\n",
              "    width: 32px;\n",
              "  }\n",
              "\n",
              "  .colab-df-quickchart:hover {\n",
              "    background-color: #E2EBFA;\n",
              "    box-shadow: 0px 1px 2px rgba(60, 64, 67, 0.3), 0px 1px 3px 1px rgba(60, 64, 67, 0.15);\n",
              "    fill: #174EA6;\n",
              "  }\n",
              "\n",
              "  [theme=dark] .colab-df-quickchart {\n",
              "    background-color: #3B4455;\n",
              "    fill: #D2E3FC;\n",
              "  }\n",
              "\n",
              "  [theme=dark] .colab-df-quickchart:hover {\n",
              "    background-color: #434B5C;\n",
              "    box-shadow: 0px 1px 3px 1px rgba(0, 0, 0, 0.15);\n",
              "    filter: drop-shadow(0px 1px 2px rgba(0, 0, 0, 0.3));\n",
              "    fill: #FFFFFF;\n",
              "  }\n",
              "</style>\n",
              "\n",
              "    <script>\n",
              "      async function quickchart(key) {\n",
              "        const containerElement = document.querySelector('#' + key);\n",
              "        const charts = await google.colab.kernel.invokeFunction(\n",
              "            'suggestCharts', [key], {});\n",
              "      }\n",
              "    </script>\n",
              "\n",
              "      <script>\n",
              "\n",
              "function displayQuickchartButton(domScope) {\n",
              "  let quickchartButtonEl =\n",
              "    domScope.querySelector('#df-34cad83a-5cee-4d8f-b59d-2ff3322719ef button.colab-df-quickchart');\n",
              "  quickchartButtonEl.style.display =\n",
              "    google.colab.kernel.accessAllowed ? 'block' : 'none';\n",
              "}\n",
              "\n",
              "        displayQuickchartButton(document);\n",
              "      </script>\n",
              "      <style>\n",
              "    .colab-df-container {\n",
              "      display:flex;\n",
              "      flex-wrap:wrap;\n",
              "      gap: 12px;\n",
              "    }\n",
              "\n",
              "    .colab-df-convert {\n",
              "      background-color: #E8F0FE;\n",
              "      border: none;\n",
              "      border-radius: 50%;\n",
              "      cursor: pointer;\n",
              "      display: none;\n",
              "      fill: #1967D2;\n",
              "      height: 32px;\n",
              "      padding: 0 0 0 0;\n",
              "      width: 32px;\n",
              "    }\n",
              "\n",
              "    .colab-df-convert:hover {\n",
              "      background-color: #E2EBFA;\n",
              "      box-shadow: 0px 1px 2px rgba(60, 64, 67, 0.3), 0px 1px 3px 1px rgba(60, 64, 67, 0.15);\n",
              "      fill: #174EA6;\n",
              "    }\n",
              "\n",
              "    [theme=dark] .colab-df-convert {\n",
              "      background-color: #3B4455;\n",
              "      fill: #D2E3FC;\n",
              "    }\n",
              "\n",
              "    [theme=dark] .colab-df-convert:hover {\n",
              "      background-color: #434B5C;\n",
              "      box-shadow: 0px 1px 3px 1px rgba(0, 0, 0, 0.15);\n",
              "      filter: drop-shadow(0px 1px 2px rgba(0, 0, 0, 0.3));\n",
              "      fill: #FFFFFF;\n",
              "    }\n",
              "  </style>\n",
              "\n",
              "      <script>\n",
              "        const buttonEl =\n",
              "          document.querySelector('#df-87414947-19bc-472e-8930-af10cec076bf button.colab-df-convert');\n",
              "        buttonEl.style.display =\n",
              "          google.colab.kernel.accessAllowed ? 'block' : 'none';\n",
              "\n",
              "        async function convertToInteractive(key) {\n",
              "          const element = document.querySelector('#df-87414947-19bc-472e-8930-af10cec076bf');\n",
              "          const dataTable =\n",
              "            await google.colab.kernel.invokeFunction('convertToInteractive',\n",
              "                                                     [key], {});\n",
              "          if (!dataTable) return;\n",
              "\n",
              "          const docLinkHtml = 'Like what you see? Visit the ' +\n",
              "            '<a target=\"_blank\" href=https://colab.research.google.com/notebooks/data_table.ipynb>data table notebook</a>'\n",
              "            + ' to learn more about interactive tables.';\n",
              "          element.innerHTML = '';\n",
              "          dataTable['output_type'] = 'display_data';\n",
              "          await google.colab.output.renderOutput(dataTable, element);\n",
              "          const docLink = document.createElement('div');\n",
              "          docLink.innerHTML = docLinkHtml;\n",
              "          element.appendChild(docLink);\n",
              "        }\n",
              "      </script>\n",
              "    </div>\n",
              "  </div>\n"
            ],
            "text/plain": [
              "                                              review  sentiment\n",
              "0  Although this film was made before Dogme emerg...          0\n",
              "1  My grandmother took me and my sister out to se...          0\n",
              "2  Possibly the worst film within the genre in ex...          0\n",
              "3  As long as you keep in mind that the productio...          0\n",
              "4  The plot in Petites Coupures certainly left th...          0\n",
              "5  this is quite possibly the worst acting i have...          0\n",
              "6  I watched this movie alongwith my complete fam...          1\n",
              "7  Ever since I can remember and I'm only 18 my m...          1\n",
              "8  Before this clip, music videos were merely to ...          1\n",
              "9  Just Cause is one of those films that at first...          0"
            ]
          },
          "execution_count": 4,
          "metadata": {},
          "output_type": "execute_result"
        }
      ],
      "source": [
        "traindf.head(10)"
      ]
    },
    {
      "cell_type": "code",
      "execution_count": 5,
      "metadata": {
        "colab": {
          "base_uri": "https://localhost:8080/"
        },
        "id": "B_fvW7MqwbXv",
        "outputId": "d49fcd40-f72c-4693-abd4-0fcac086b11e"
      },
      "outputs": [
        {
          "name": "stderr",
          "output_type": "stream",
          "text": [
            "[nltk_data] Downloading package stopwords to /root/nltk_data...\n",
            "[nltk_data]   Unzipping corpora/stopwords.zip.\n"
          ]
        }
      ],
      "source": [
        "import nltk\n",
        "nltk.download('stopwords')\n",
        "from nltk.corpus import stopwords\n",
        "stop_words = set(stopwords.words('english')) # to remove all that doesn't carry meaningful information such words a,an,the, off"
      ]
    },
    {
      "cell_type": "code",
      "execution_count": 6,
      "metadata": {
        "colab": {
          "base_uri": "https://localhost:8080/",
          "height": 178
        },
        "id": "Mp_83UfVxJUb",
        "outputId": "f8213fa7-a338-42cb-f108-689080709f24"
      },
      "outputs": [
        {
          "data": {
            "application/vnd.google.colaboratory.intrinsic+json": {
              "type": "string"
            },
            "text/plain": [
              "\"I like this presentation - I have read Bleak House and I know it is so difficult to present the entire book as it should be, and even others like Little Dorrit - I have to admit they did a very good show with the staged Nicholas Nickelby. I love Diana Rigg and I could see the pain of Lady Dedlock, even through the expected arrogance of the aristocracy. I am sorry, I think she is the best Lady Dedlock... I am not sure who could have made a better Jarndyce, but I am OK with Mr. Elliott. It is not easy to present these long Dickens' books - Oliver Twist would be easier - this is a long, and if you don't care for all the legal situations can be dreary or boring. I think this presentation is entertaining enough not to be boring. I just LOVED Mr. Smallweed - it can be entertaining. There is always a child - Jo will break your heart here... I think we should be given a chance to judge for ourselves...<br /><br />I have to say I loved the show. Maybe if I read the book again, as I usually do, after seeing the movie, maybe I can be more critical. In the meantime - I think it is a good presentation.\""
            ]
          },
          "execution_count": 6,
          "metadata": {},
          "output_type": "execute_result"
        }
      ],
      "source": [
        "text = df.iloc[22]['review'] #returns the 32 entry from dataframe\n",
        "text"
      ]
    },
    {
      "cell_type": "code",
      "execution_count": 7,
      "metadata": {
        "colab": {
          "base_uri": "https://localhost:8080/"
        },
        "id": "-Cfu4L06wdMg",
        "outputId": "575ca60c-2ee0-493a-85b2-d5a9d7616b59"
      },
      "outputs": [
        {
          "name": "stdout",
          "output_type": "stream",
          "text": [
            "39629\n",
            "['<pad>', 'although', 'film', 'made', 'dogme', 'emerged', 'predominant', 'method', 'filmmaking', 'digital', 'triumphed', 'strike', 'get', 'point', '1991', 'masterpiece', 'clearly', 'anticipated', 'developments', 'corin', 'nemec', 'outstanding', 'ne', \"'\", 'er', 'well', 'author', 'narrator', 'pace', 'slow', 'elegantly', 'cinematography', 'beautiful', 'record', 'next', 'time', 'v', 'guarantee', 'never', 'see', 'better', 'nostalgia', 'rip', 'movie', 'direct', 'video', 'felt', 'good', '!', 'grandmother', 'took', 'sister', 'came', 'theaters', 'back', '1998', 'happily', 'bought', 'tickets', 'popcorn', 'soda', 'walked', 'right', 'theater', 'sat', 'watch', 'audience', 'applauded', 'strongly', 'remember', 'heard', 'people', 'say', 'like', 'thought', 'rather', 'stupid', 'worth', 'seeing', 'eddie', 'murphy', 'hysterical', 'apart', 'whole', 'bad', 'rarely', 'laughed', 'parts', 'also', 'remembered', 'almost', 'hardly', 'even', 'really', 'making', 'animals', 'talk', 'talking', 'exist', 'cartoons']\n"
          ]
        }
      ],
      "source": [
        "import re\n",
        "from collections import Counter\n",
        "from torchtext.data.utils import get_tokenizer\n",
        "\n",
        "tokenizer = get_tokenizer('basic_english')\n",
        "\n",
        "replacements = {\n",
        "    r\"<br /><br />\": \" \",\n",
        "    r\"\\#\": \"\",\n",
        "    r\"http\\S+\": \"URL\",\n",
        "    r\"@\" : \"\",\n",
        "    r\"[^A-Za-z0-9()!?\\'\\`\\\"]\": \" \",\n",
        "    \"\\s{2,}\": \" \"\n",
        "}\n",
        "\n",
        "# we convert all tesxt to lowercase and strips leading/trailing spaces\n",
        "def stringnormalization(text):\n",
        "    text = text.lower().strip()\n",
        "\n",
        "    for pattern, replacement in replacements.items():\n",
        "        text = re.sub(pattern, replacement, text)\n",
        "\n",
        "    return text\n",
        "\n",
        "def tokennormalization(text):\n",
        "    text_tokens = tokenizer(text)\n",
        "    filtered_tokens = [token for token in text_tokens if token not in stop_words]\n",
        "    return filtered_tokens\n",
        "\n",
        "totalsentences = df[\"review\"]\n",
        "totalsentences = totalsentences.apply(stringnormalization)\n",
        "totaltokens = list(totalsentences.apply(tokennormalization))\n",
        "\n",
        "# Collected unique tokens from the dataset and filter based on their frequency\n",
        "wordfrequency = Counter([token for sublist in totaltokens for token in sublist]) #counts frequency of each word\n",
        "\n",
        "# words which occur atleast  5 times will be stored in our vocabulary\n",
        "\n",
        "vocab = []\n",
        "for word, freq in wordfrequency.items():\n",
        "    if freq >= 5:\n",
        "        vocab.append(word)\n",
        "\n",
        "vocab = ['<pad>'] + vocab #only main words are present\n",
        "\n",
        "print(len(vocab))\n",
        "print(vocab[:100])\n",
        "\n",
        "# Count the number of tokens per data point\n",
        "token_counts = []\n",
        "for data_point in totaltokens:\n",
        "    token_counts.append(len(data_point))\n",
        "\n"
      ]
    },
    {
      "cell_type": "code",
      "execution_count": 9,
      "metadata": {
        "id": "zM8UqliezYkg"
      },
      "outputs": [],
      "source": [
        "import torch\n",
        "from torch.utils.data import Dataset\n",
        "\n",
        "class CustomDataset(Dataset):\n",
        "    def __init__(self, df, tokenizer, vocab, max_length=500):\n",
        "        self.data = df['review']\n",
        "        self.targets = df['sentiment']\n",
        "        self.max_length = max_length\n",
        "        self.tokenizer = tokenizer\n",
        "        self.vocab_dict = {token: index for index, token in enumerate(vocab)}\n",
        "\n",
        "    def __len__(self):\n",
        "        return len(self.data)\n",
        "\n",
        "    def process_text(self, text):\n",
        "        text = stringnormalization(text)\n",
        "        word_tokens = tokennormalization(text)\n",
        "        return word_tokens\n",
        "\n",
        "    def transform_tokens_to_ids(self, tokens):\n",
        "        truncated_tokens = tokens[:self.max_length]\n",
        "        ids = [self.vocab_dict[word] for word in truncated_tokens if self.vocab_dict.get(word) is not None]\n",
        "        return ids\n",
        "\n",
        "    def __getitem__(self, index):\n",
        "        data_point = self.data.iloc[index]\n",
        "        word_tokens = self.process_text(data_point)\n",
        "        data_ids = self.transform_tokens_to_ids(word_tokens)\n",
        "        target = self.targets.iloc[index]\n",
        "\n",
        "        return torch.tensor(data_ids), target\n"
      ]
    },
    {
      "cell_type": "markdown",
      "metadata": {
        "id": "ivb7wNTeHyXZ"
      },
      "source": [
        "Here it is loading the GloVe word embeddings. The '6B' argument refers to the GloVe model trained on 6 billion words from Wikipedia and Gigaword. The 'dim=100' argument specifies that the word vectors should have 100 dimensions. Creates a 100 dimensional vector for each word"
      ]
    },
    {
      "cell_type": "code",
      "execution_count": 10,
      "metadata": {
        "colab": {
          "base_uri": "https://localhost:8080/"
        },
        "id": "67b-xdxGA9r0",
        "outputId": "d5e0e7f7-8a7f-4406-cc4e-ebfa867dfa44"
      },
      "outputs": [
        {
          "name": "stderr",
          "output_type": "stream",
          "text": [
            ".vector_cache/glove.6B.zip: 862MB [02:40, 5.38MB/s]                           \n",
            "100%|█████████▉| 399999/400000 [00:20<00:00, 19388.86it/s]\n"
          ]
        },
        {
          "name": "stdout",
          "output_type": "stream",
          "text": [
            "[[ 0.          0.          0.         ...  0.          0.\n",
            "   0.        ]\n",
            " [-0.31843001  0.33155     0.1735     ... -0.086687    0.1937\n",
            "  -0.22784001]\n",
            " [ 0.19915999 -0.049702    0.24579    ... -0.068109    0.017651\n",
            "   0.06455   ]\n",
            " ...\n",
            " [-0.29157001 -0.61574    -0.18811999 ...  0.042986   -0.43873999\n",
            "  -0.38499999]\n",
            " [-0.55757999 -0.67988998 -0.59139001 ...  0.74598002 -0.028291\n",
            "   0.020271  ]\n",
            " [ 0.24415    -0.33618    -0.22695    ...  0.44402    -0.80962998\n",
            "   0.57736999]]\n"
          ]
        }
      ],
      "source": [
        "from torchtext.vocab import GloVe\n",
        "import numpy as np\n",
        "\n",
        "# Initializing GloVe with 100 dimensional vectors\n",
        "glove = GloVe(name='6B', dim=100)\n",
        "\n",
        "# creating the zero matrix for the embedding matrix\n",
        "embedding_dim = 100\n",
        "vocab_size = len(vocab)\n",
        "embedding_matrix = np.zeros((vocab_size, embedding_dim))\n",
        "\n",
        "# now we will fill embedding matrix with GloVe vectors\n",
        "for i in range(vocab_size):\n",
        "    token = vocab[i]\n",
        "    embedding_matrix[i] = glove[token]\n",
        "\n",
        "print(embedding_matrix)\n",
        "\n",
        "# Save the embedding matrix to a file\n",
        "embedding_filename = 'embeddings.npy'\n",
        "np.save(embedding_filename, embedding_matrix)\n",
        "\n"
      ]
    },
    {
      "cell_type": "code",
      "execution_count": 11,
      "metadata": {
        "id": "1todA5QLI9Ef"
      },
      "outputs": [],
      "source": [
        "embeddingmatrix = np.load('embeddings.npy')"
      ]
    },
    {
      "cell_type": "code",
      "execution_count": 12,
      "metadata": {
        "colab": {
          "base_uri": "https://localhost:8080/"
        },
        "id": "bpAWXiY2JdHr",
        "outputId": "c37abf2a-921e-4e0c-9b98-69ded3f89e53"
      },
      "outputs": [
        {
          "data": {
            "text/plain": [
              "array([ 2.63000011e-01,  1.26890004e-01,  4.45410013e-01, -1.51669994e-01,\n",
              "        4.23860013e-01,  6.13730013e-01,  2.11879998e-01, -3.79980006e-03,\n",
              "        3.48259985e-01, -2.58320004e-01,  4.24499989e-01,  3.25089991e-01,\n",
              "        6.24350011e-01,  2.34190002e-01,  2.43910000e-01, -2.93599993e-01,\n",
              "        5.73660016e-01, -5.58019988e-02, -1.36510000e-01,  1.23389997e-01,\n",
              "        2.31110007e-02, -7.84580037e-02, -4.28379998e-02, -5.46199977e-01,\n",
              "       -7.32169999e-03, -2.94559985e-01, -6.07760012e-01, -2.28880003e-01,\n",
              "       -3.00089985e-01,  5.98770007e-02,  4.20910001e-01,  3.13309997e-01,\n",
              "       -2.39999995e-01,  3.35629992e-02,  4.51819986e-01, -2.58489996e-01,\n",
              "       -6.36700019e-02, -2.87490010e-01,  7.57569969e-02, -6.61640018e-02,\n",
              "       -8.98770019e-02,  3.08679998e-01,  4.47609991e-01, -3.48690003e-02,\n",
              "       -8.41389969e-02, -3.62379998e-01,  1.86240003e-01,  2.58560002e-01,\n",
              "        1.63010001e-01, -5.76910019e-01,  1.48110002e-01,  1.98520005e-01,\n",
              "        5.39629996e-01,  4.80949998e-01, -2.24280000e-01, -8.79899979e-01,\n",
              "       -7.65049979e-02, -2.13770002e-01,  3.00790012e-01,  2.26999998e-01,\n",
              "        6.30280003e-03,  5.93919992e-01, -4.09369990e-02, -5.04439995e-02,\n",
              "        3.68030012e-01, -4.22299989e-02,  2.19310001e-01, -3.51550013e-01,\n",
              "       -1.89579993e-01, -2.07420006e-01,  3.12929988e-01, -2.57849991e-01,\n",
              "       -6.60739988e-02,  3.77770007e-01, -1.44260004e-01,  3.69310001e-04,\n",
              "        1.65869996e-01, -3.27700004e-02, -8.16290021e-01,  6.58200026e-01,\n",
              "        4.92370017e-02,  4.24780011e-01, -6.76760018e-01, -2.11789995e-01,\n",
              "       -1.27110004e+00, -3.66369992e-01,  1.32090002e-01, -1.14900000e-01,\n",
              "       -2.44619995e-01, -3.01910013e-01, -1.82520002e-01, -2.75110006e-01,\n",
              "        4.81979996e-01, -2.33649999e-01, -7.27860034e-02, -2.50880003e-01,\n",
              "       -4.92330015e-01, -3.74289989e-01, -2.01169997e-01,  1.43610001e-01])"
            ]
          },
          "execution_count": 12,
          "metadata": {},
          "output_type": "execute_result"
        }
      ],
      "source": [
        "embeddingmatrix[394]"
      ]
    },
    {
      "cell_type": "code",
      "execution_count": 13,
      "metadata": {
        "id": "lvMBeCWcJb-u"
      },
      "outputs": [],
      "source": [
        "from torch.nn.utils.rnn import pad_sequence\n",
        "from torch.utils.data import DataLoader\n",
        "\n",
        "def collate_batch(batch):\n",
        "\n",
        "\n",
        "    sorted_batch = sorted(batch, key=lambda x: len(x[0]), reverse=True)\n",
        "\n",
        "    sequences, labels = zip(*sorted_batch)\n",
        "\n",
        "\n",
        "    l = []\n",
        "    for seq in sequences:\n",
        "      l.append(len(seq))\n",
        "\n",
        "\n",
        "    padded_sequences = pad_sequence(sequences, batch_first=True)\n",
        "\n",
        "    return padded_sequences, torch.tensor(labels, dtype=torch.float32)\n",
        "\n",
        "batch_size = 32\n",
        "\n",
        "train_data = CustomDataset(traindf, tokenizer, vocab)\n",
        "test_data = CustomDataset(testdf, tokenizer, vocab)\n",
        "\n",
        "train_dataloader = DataLoader(train_data, batch_size=batch_size, collate_fn=collate_batch, shuffle=True)\n",
        "test_dataloader = DataLoader(test_data, batch_size=batch_size, collate_fn=collate_batch, shuffle=False)\n"
      ]
    },
    {
      "cell_type": "code",
      "execution_count": 14,
      "metadata": {
        "colab": {
          "base_uri": "https://localhost:8080/"
        },
        "id": "rbZkt2ZJK-O7",
        "outputId": "1e4ab267-adc3-4c1b-fc72-3748c340131b"
      },
      "outputs": [
        {
          "data": {
            "text/plain": [
              "0"
            ]
          },
          "execution_count": 14,
          "metadata": {},
          "output_type": "execute_result"
        }
      ],
      "source": [
        " vocab.index('<pad>')"
      ]
    },
    {
      "cell_type": "code",
      "execution_count": 16,
      "metadata": {
        "colab": {
          "base_uri": "https://localhost:8080/"
        },
        "id": "PTHAP1QgLBHT",
        "outputId": "2be8b924-bd21-4476-8f0b-bed2e882e3d4"
      },
      "outputs": [
        {
          "name": "stdout",
          "output_type": "stream",
          "text": [
            "tensor([1., 0., 0., 1., 0., 1., 1., 1., 1., 1., 0., 0., 0., 0., 0., 1., 0., 0.,\n",
            "        1., 1., 1., 1., 0., 1., 1., 1., 0., 1., 1., 0., 1., 1.])\n",
            "torch.Size([32, 470])\n",
            "tensor([[   38,   109,   300,  ...,   848,   300,   211],\n",
            "        [  818,   425,    93,  ...,     0,     0,     0],\n",
            "        [  226, 13663,   637,  ...,     0,     0,     0],\n",
            "        ...,\n",
            "        [   72,   282, 11707,  ...,     0,     0,     0],\n",
            "        [ 3305,  6052, 36577,  ...,     0,     0,     0],\n",
            "        [11643,  2642,   631,  ...,     0,     0,     0]])\n"
          ]
        }
      ],
      "source": [
        "sentence, label = next(iter(train_dataloader))\n",
        "print(label)\n",
        "print(sentence.shape)\n",
        "print(sentence)"
      ]
    },
    {
      "cell_type": "code",
      "execution_count": 17,
      "metadata": {
        "id": "wqTNbTgiLFJt"
      },
      "outputs": [],
      "source": [
        "import torch.nn as nn\n",
        "\n",
        "class GRU(nn.Module):\n",
        "    def __init__(self, vocab_size, embed_size, num_hiddens, num_layers):\n",
        "        super(GRU, self).__init__()\n",
        "\n",
        "        self.embedding = nn.Embedding(vocab_size, embed_size)\n",
        "        self.encoder = nn.GRU(embed_size, num_hiddens, num_layers=num_layers, bidirectional=True)\n",
        "        self.decoder = nn.Linear(4*num_hiddens, 1)\n",
        "        self.sigmoid = nn.Sigmoid()\n",
        "\n",
        "    def forward(self, inputs):\n",
        "        embeddings = self.embedding(inputs.T)\n",
        "        self.encoder.flatten_parameters()\n",
        "        outputs, _ = self.encoder(embeddings)\n",
        "        encoding = torch.cat((outputs[0], outputs[-1]), dim=1)\n",
        "        result = self.sigmoid(self.decoder(encoding).squeeze())\n",
        "        return result\n"
      ]
    },
    {
      "cell_type": "code",
      "execution_count": 18,
      "metadata": {
        "colab": {
          "base_uri": "https://localhost:8080/"
        },
        "id": "6g5m-bjjMtmy",
        "outputId": "3e66222d-569c-458d-ed9b-5a1ff8b8bf27"
      },
      "outputs": [
        {
          "data": {
            "text/plain": [
              "GRU(\n",
              "  (embedding): Embedding(39629, 100)\n",
              "  (encoder): GRU(100, 100, num_layers=2, bidirectional=True)\n",
              "  (decoder): Linear(in_features=400, out_features=1, bias=True)\n",
              "  (sigmoid): Sigmoid()\n",
              ")"
            ]
          },
          "execution_count": 18,
          "metadata": {},
          "output_type": "execute_result"
        }
      ],
      "source": [
        "embed_size, num_hiddens, num_layers, device = 100, 100, 2, torch.device(\"cuda\" if torch.cuda.is_available() else \"cpu\")\n",
        "\n",
        "network = GRU(len(vocab), embed_size, num_hiddens, num_layers)\n",
        "\n",
        "network.to(device)\n",
        "\n",
        "def init_weights(module):\n",
        "    if type(module) == nn.Linear:\n",
        "        nn.init.xavier_uniform_(module.weight)\n",
        "    if type(module) == nn.GRU:\n",
        "        for param in module._flat_weights_names:\n",
        "            if \"weight\" in param:\n",
        "                nn.init.xavier_uniform_(module._parameters[param])\n",
        "network.apply(init_weights)"
      ]
    },
    {
      "cell_type": "code",
      "execution_count": 19,
      "metadata": {
        "id": "awX10GbmMwZG"
      },
      "outputs": [],
      "source": [
        "network.embedding.weight.data.copy_(torch.tensor(embedding_matrix))\n",
        "network.embedding.weight.requires_grad = False\n",
        "\n",
        "num_epochs =  10\n",
        "optimizer = torch.optim.Adam(network.parameters(), lr=0.001)\n",
        "loss = nn.BCELoss()"
      ]
    },
    {
      "cell_type": "code",
      "execution_count": 20,
      "metadata": {
        "id": "skZZ7aoMAM46"
      },
      "outputs": [],
      "source": [
        "import time\n",
        "import numpy as np\n",
        "import torch\n",
        "import numpy as np\n",
        "from torch.nn import functional as F\n",
        "\n",
        "def train(model, optimizer, num_epochs, train_dataloader, val_dataloader, device, loss_fn):\n",
        "    train_losses = []\n",
        "    train_accuracies = []\n",
        "    val_losses = []\n",
        "    val_accuracies = []\n",
        "\n",
        "    for epoch_i in range(num_epochs):\n",
        "        print(f'======== Epoch {epoch_i+1} / {num_epochs} ========')\n",
        "        print('Training...')\n",
        "\n",
        "        total_train_loss = 0\n",
        "        total_train_acc = 0\n",
        "\n",
        "        model.train()\n",
        "        for i, batch in enumerate(train_dataloader):\n",
        "            inputs, labels = [t.to(device) for t in batch]\n",
        "\n",
        "            optimizer.zero_grad()\n",
        "            outputs = model(inputs)\n",
        "            train_loss = loss_fn(outputs, labels)\n",
        "            correct = sum((outputs>0.5) == labels)\n",
        "            train_acc = float(correct) / float(len(labels.data)) * 100.0\n",
        "\n",
        "\n",
        "            total_train_loss += train_loss.item()\n",
        "            total_train_acc += train_acc\n",
        "\n",
        "\n",
        "            train_loss.backward()\n",
        "            optimizer.step()\n",
        "\n",
        "        avg_train_loss = total_train_loss / len(train_dataloader)\n",
        "        avg_train_acc = total_train_acc / len(train_dataloader)\n",
        "        train_losses.append(avg_train_loss)\n",
        "        train_accuracies.append(avg_train_acc)\n",
        "        print(f'Training Loss: {avg_train_loss:.3f}, Training acc: {avg_train_acc:.3f}')\n",
        "\n",
        "\n",
        "        print('Validation...')\n",
        "\n",
        "        model.eval()\n",
        "        total_val_loss = 0\n",
        "        total_val_acc = 0\n",
        "\n",
        "        with torch.no_grad():\n",
        "            for batch in val_dataloader:\n",
        "                inputs, labels = [t.to(device) for t in batch]\n",
        "                outputs = model(inputs)\n",
        "                val_loss = loss_fn(outputs, labels)\n",
        "                correct = sum((outputs>0.5) == labels)\n",
        "                val_acc = float(correct) / float(len(labels.data)) * 100.0\n",
        "\n",
        "                total_val_loss += val_loss.item()\n",
        "                total_val_acc += val_acc\n",
        "\n",
        "        avg_val_loss = total_val_loss / len(val_dataloader)\n",
        "        avg_val_acc = total_val_acc / len(val_dataloader)\n",
        "        val_losses.append(avg_val_loss)\n",
        "        val_accuracies.append(avg_val_acc)\n",
        "\n",
        "        print(f'Validation Loss: {avg_val_loss:.3f}, Validation acc: {avg_val_acc:.3f}')\n",
        "\n",
        "\n",
        "    return train_losses, val_losses, train_accuracies, val_accuracies\n"
      ]
    },
    {
      "cell_type": "code",
      "execution_count": 21,
      "metadata": {
        "colab": {
          "base_uri": "https://localhost:8080/"
        },
        "id": "jvGj2a6vHGK1",
        "outputId": "c4ece496-b336-4daf-edc3-da69330f52c0"
      },
      "outputs": [
        {
          "name": "stdout",
          "output_type": "stream",
          "text": [
            "======== Epoch 1 / 10 ========\n",
            "Training...\n",
            "Training Loss: 0.399, Training acc: 81.470\n",
            "Validation...\n",
            "Validation Loss: 0.306, Validation acc: 87.041\n",
            "======== Epoch 2 / 10 ========\n",
            "Training...\n",
            "Training Loss: 0.286, Training acc: 87.983\n",
            "Validation...\n",
            "Validation Loss: 0.267, Validation acc: 89.247\n",
            "======== Epoch 3 / 10 ========\n",
            "Training...\n",
            "Training Loss: 0.245, Training acc: 89.885\n",
            "Validation...\n",
            "Validation Loss: 0.256, Validation acc: 89.497\n",
            "======== Epoch 4 / 10 ========\n",
            "Training...\n",
            "Training Loss: 0.203, Training acc: 91.890\n",
            "Validation...\n",
            "Validation Loss: 0.264, Validation acc: 89.397\n",
            "======== Epoch 5 / 10 ========\n",
            "Training...\n",
            "Training Loss: 0.160, Training acc: 93.750\n",
            "Validation...\n",
            "Validation Loss: 0.301, Validation acc: 88.628\n",
            "======== Epoch 6 / 10 ========\n",
            "Training...\n",
            "Training Loss: 0.116, Training acc: 95.665\n",
            "Validation...\n",
            "Validation Loss: 0.308, Validation acc: 88.788\n",
            "======== Epoch 7 / 10 ========\n",
            "Training...\n",
            "Training Loss: 0.077, Training acc: 97.255\n",
            "Validation...\n",
            "Validation Loss: 0.521, Validation acc: 85.473\n",
            "======== Epoch 8 / 10 ========\n",
            "Training...\n",
            "Training Loss: 0.054, Training acc: 98.108\n",
            "Validation...\n",
            "Validation Loss: 0.418, Validation acc: 89.038\n",
            "======== Epoch 9 / 10 ========\n",
            "Training...\n",
            "Training Loss: 0.038, Training acc: 98.660\n",
            "Validation...\n",
            "Validation Loss: 0.503, Validation acc: 88.359\n",
            "======== Epoch 10 / 10 ========\n",
            "Training...\n",
            "Training Loss: 0.032, Training acc: 98.860\n",
            "Validation...\n",
            "Validation Loss: 0.519, Validation acc: 88.598\n"
          ]
        }
      ],
      "source": [
        "train_losses, test_losses, train_accuracies, test_accuracies = train(network, optimizer, num_epochs, train_dataloader,\n",
        "                                          test_dataloader, device, loss)"
      ]
    },
    {
      "cell_type": "code",
      "execution_count": 22,
      "metadata": {
        "colab": {
          "base_uri": "https://localhost:8080/",
          "height": 448
        },
        "id": "VzQA3CXIHLWb",
        "outputId": "abd121d2-75ff-4991-b281-e7e122c06129"
      },
      "outputs": [
        {
          "data": {
            "image/png": "[encoded data removed]",
            "text/plain": [
              "<Figure size 1200x500 with 2 Axes>"
            ]
          },
          "metadata": {},
          "output_type": "display_data"
        }
      ],
      "source": [
        "def plot_metrics(train_losses, val_losses, train_accuracies, val_accuracies):\n",
        "    plt.figure(figsize=(12, 5))\n",
        "\n",
        "    plt.subplot(1, 2, 1)\n",
        "    plt.plot(train_losses, label='Train Loss')\n",
        "    plt.plot(val_losses, label='Validation Loss')\n",
        "    plt.xlabel(\"Epoch\")\n",
        "    plt.ylabel(\"Loss\")\n",
        "    plt.legend()\n",
        "    plt.title(\"Losses over Epochs\")\n",
        "\n",
        "    plt.subplot(1, 2, 2)\n",
        "    plt.plot(train_accuracies, label='Train Accuracy')\n",
        "    plt.plot(val_accuracies, label='Validation Accuracy')\n",
        "    plt.ylim((50, 100))\n",
        "    plt.xlabel(\"Epoch\")\n",
        "    plt.ylabel(\"Accuracy\")\n",
        "    plt.legend()\n",
        "    plt.title(\"Accuracies over Epochs\")\n",
        "\n",
        "    plt.tight_layout()\n",
        "    plt.show()\n",
        "\n",
        "plot_metrics(train_losses, test_losses, train_accuracies, test_accuracies)\n"
      ]
    },
    {
      "cell_type": "code",
      "execution_count": 23,
      "metadata": {
        "colab": {
          "base_uri": "https://localhost:8080/"
        },
        "id": "PhbX2SuVvpry",
        "outputId": "08d147f7-3db0-4b0e-87ac-0e065661e329"
      },
      "outputs": [
        {
          "name": "stdout",
          "output_type": "stream",
          "text": [
            "Sentence 6766: i was intrigued to see how a little-seen 2008 film had somehow won the Oscar for best picture of 2009 and thus went to see The Hurt Locker. sadly, all i got for the two hours invested was the grim confirmation that this film had won awards purely for...\n",
            "Actual Sentiment: negative\n",
            "Predicted Sentiment: negative\n",
            "--------------------------------------------------\n",
            "Sentence 24368: Zombi 3 has an interesting history in it's making. Firstly, it is a sequel to Fulci's hit Zombi 2, with Zombi 2 itself being of course a marketing ploy to trick people into thinking it was a sequel to George A. Romero's Dawn of the Dead aka Zombi. Co...\n",
            "Actual Sentiment: positive\n",
            "Predicted Sentiment: positive\n",
            "--------------------------------------------------\n",
            "Sentence 21800: First of all yes I'm white, so I try to tread lightly in the ever delicate subject of race... anyway... White People Hating Black people = BAD but Black People Hating White people = OK (because apparently we deserved it!!). where do i start? i wish i...\n",
            "Actual Sentiment: negative\n",
            "Predicted Sentiment: positive\n",
            "--------------------------------------------------\n",
            "Sentence 18306: Cute idea... salesgirl Linda Smith (Yolande Donlan) inherits a teeny tiny little county of Lampidorra. That country, which wasn't even in North America, was made the 49th state... (of course, there were only 48 states at the time, since this was made...\n",
            "Actual Sentiment: positive\n",
            "Predicted Sentiment: positive\n",
            "--------------------------------------------------\n",
            "Sentence 27889: By the end of the first hour my jaw was nestled comfortably between my feet. The movie never, and I do mean never, lets up in action. It may be mild action but it's action. Once again every member of the cast fits perfectly. The explosions were reali...\n",
            "Actual Sentiment: positive\n",
            "Predicted Sentiment: positive\n",
            "--------------------------------------------------\n",
            "Sentence 41131: I don't know what you guys are talking about, the first time I watched this movie with two of my friends we couldn't stop crying. This is one of the funniest shits I've ever seen. That comment about the porn is so right though hahahaha.<br /><br />Ye...\n",
            "Actual Sentiment: negative\n",
            "Predicted Sentiment: positive\n",
            "--------------------------------------------------\n",
            "Sentence 32885: This is a fun movie with subtle intention. Its off-beat comedy is hilarious to me, unfunny to my friends. The soundtrack is perfect.<br /><br />I own this on VHS and I have watched it many, many times, because it's simply a fun and funny love story w...\n",
            "Actual Sentiment: positive\n",
            "Predicted Sentiment: positive\n",
            "--------------------------------------------------\n",
            "Sentence 19626: FLIGHT OF FURY takes the mantle of being the very WORST Steven Seagal flick I've ever seen...Up to now.<br /><br />It's a dreadful bore with no action scenes of any interest, Seagal isn't really trying in this - he's fat and his voice is dubbed once ...\n",
            "Actual Sentiment: negative\n",
            "Predicted Sentiment: negative\n",
            "--------------------------------------------------\n",
            "Sentence 21453: Oh dear oh dear. It really gets on my nerves when a low budget, pointless horror affair tries to look interesting in the credits by having a bunch of good names pop up in the cast, only to involve each one in the smallest, most pointless possible rol...\n",
            "Actual Sentiment: negative\n",
            "Predicted Sentiment: negative\n",
            "--------------------------------------------------\n",
            "Sentence 11405: If you like bad movies (and you must to watch this one) here's a good one. Not quite as funny as the first, but much lower quality. A must-see for fans of Jack Frost as well as anyone up for a good laugh at the writing....\n",
            "Actual Sentiment: negative\n",
            "Predicted Sentiment: positive\n",
            "--------------------------------------------------\n"
          ]
        }
      ],
      "source": [
        "def predict_sentiment(network, vocab_dict, sequence):\n",
        "    sequence = tokenizer(sequence)\n",
        "    sequence = [vocab_dict.get(word, vocab_dict['<pad>']) for word in sequence]\n",
        "\n",
        "    sequence = torch.tensor([sequence], device=device)\n",
        "    output = network(sequence)\n",
        "    return 'positive' if output > 0.5 else 'negative'\n",
        "\n",
        "vocab_dict = {token: index for index, token in enumerate(vocab)}\n",
        "\n",
        "# we are selecting 10 random sentences from the dataset\n",
        "random_samples = df.sample(10)\n",
        "\n",
        "\n",
        "for i, row in random_samples.iterrows():\n",
        "    sentence = row['review']\n",
        "    actual_sentiment = 'positive' if row['sentiment'] == 1 else 'negative'\n",
        "    predicted_sentiment = predict_sentiment(network, vocab_dict, sentence)\n",
        "\n",
        "    print(f\"Sentence {i+1}: {sentence[:250]}...\")\n",
        "    print(f\"Actual Sentiment: {actual_sentiment}\")\n",
        "    print(f\"Predicted Sentiment: {predicted_sentiment}\")\n",
        "    print(\"-\"*50)"
      ]
    },
    {
      "cell_type": "markdown",
      "metadata": {
        "id": "fr5MfT2fL2ek"
      },
      "source": [
        "Adamgrad"
      ]
    },
    {
      "cell_type": "code",
      "execution_count": 24,
      "metadata": {
        "colab": {
          "base_uri": "https://localhost:8080/"
        },
        "id": "F7SEe1ywMwMD",
        "outputId": "3ba3bf76-bafc-4be5-e919-a4ca720bba6a"
      },
      "outputs": [
        {
          "name": "stdout",
          "output_type": "stream",
          "text": [
            "======== Epoch 1 / 10 ========\n",
            "Training...\n",
            "Training Loss: 0.011, Training acc: 99.670\n",
            "Validation...\n",
            "Validation Loss: 0.525, Validation acc: 89.038\n",
            "======== Epoch 2 / 10 ========\n",
            "Training...\n",
            "Training Loss: 0.006, Training acc: 99.927\n",
            "Validation...\n",
            "Validation Loss: 0.545, Validation acc: 89.097\n",
            "======== Epoch 3 / 10 ========\n",
            "Training...\n",
            "Training Loss: 0.004, Training acc: 99.948\n",
            "Validation...\n",
            "Validation Loss: 0.558, Validation acc: 89.107\n",
            "======== Epoch 4 / 10 ========\n",
            "Training...\n",
            "Training Loss: 0.004, Training acc: 99.965\n",
            "Validation...\n",
            "Validation Loss: 0.570, Validation acc: 89.107\n",
            "======== Epoch 5 / 10 ========\n",
            "Training...\n",
            "Training Loss: 0.003, Training acc: 99.972\n",
            "Validation...\n",
            "Validation Loss: 0.581, Validation acc: 89.087\n",
            "======== Epoch 6 / 10 ========\n",
            "Training...\n",
            "Training Loss: 0.003, Training acc: 99.975\n",
            "Validation...\n",
            "Validation Loss: 0.590, Validation acc: 89.067\n",
            "======== Epoch 7 / 10 ========\n",
            "Training...\n",
            "Training Loss: 0.002, Training acc: 99.975\n",
            "Validation...\n",
            "Validation Loss: 0.598, Validation acc: 89.077\n",
            "======== Epoch 8 / 10 ========\n",
            "Training...\n",
            "Training Loss: 0.002, Training acc: 99.975\n",
            "Validation...\n",
            "Validation Loss: 0.605, Validation acc: 89.018\n",
            "======== Epoch 9 / 10 ========\n",
            "Training...\n",
            "Training Loss: 0.002, Training acc: 99.978\n",
            "Validation...\n",
            "Validation Loss: 0.612, Validation acc: 89.038\n",
            "======== Epoch 10 / 10 ========\n",
            "Training...\n",
            "Training Loss: 0.002, Training acc: 99.978\n",
            "Validation...\n",
            "Validation Loss: 0.619, Validation acc: 89.038\n"
          ]
        }
      ],
      "source": [
        "\n",
        "optimizer = torch.optim.Adagrad(network.parameters(), lr=0.001)\n",
        "train_losses, test_losses, train_accuracies, test_accuracies = train(network, optimizer, num_epochs, train_dataloader,\n",
        "                                          test_dataloader, device, loss)"
      ]
    },
    {
      "cell_type": "code",
      "execution_count": 25,
      "metadata": {
        "colab": {
          "base_uri": "https://localhost:8080/",
          "height": 448
        },
        "id": "TZpx7mO3bYBO",
        "outputId": "4ba28473-682e-49b5-e811-a3412bae96df"
      },
      "outputs": [
        {
          "data": {
            "image/png": "[encoded data removed]",
            "text/plain": [
              "<Figure size 1200x500 with 2 Axes>"
            ]
          },
          "metadata": {},
          "output_type": "display_data"
        }
      ],
      "source": [
        "plot_metrics(train_losses, test_losses, train_accuracies, test_accuracies)"
      ]
    },
    {
      "cell_type": "code",
      "execution_count": 27,
      "metadata": {
        "colab": {
          "base_uri": "https://localhost:8080/"
        },
        "id": "CYsrngmIbaYP",
        "outputId": "97a11b11-5280-41dd-d832-b1b597c4fe6b"
      },
      "outputs": [
        {
          "name": "stdout",
          "output_type": "stream",
          "text": [
            "Sentence 18900: I was so moved by this film in 1981, I went back to the theater four times to see it again! Something I have never done for another film. No movie evokes the feelings of growing up in the 60's like Four Friends. That it so closely approximated my own...\n",
            "Actual Sentiment: positive\n",
            "Predicted Sentiment: positive\n",
            "--------------------------------------------------\n",
            "Sentence 41500: Although it got some favorable press after playing at the Toronto Intl. Film Festival, there were a number of reasons not to expect too much from this. One -- it's an ultra-low budget Canadian film. Two -- it's written, directed and starring the same...\n",
            "Actual Sentiment: negative\n",
            "Predicted Sentiment: negative\n",
            "--------------------------------------------------\n",
            "Sentence 577: Normally, I do not review online, but it's Saturday and I'm trapped in my room, on a rainy day with nothing to do but watch sci-fi movies and Xena: Warrior Princess (I can't get the damned 'Joxer the Mighty' song out of my head, it's been there for t...\n",
            "Actual Sentiment: positive\n",
            "Predicted Sentiment: positive\n",
            "--------------------------------------------------\n",
            "Sentence 7989: I don't normally feel much of an incentive to comment on films I don't like, but in a case like this one, I just have to say something. This movie is terrible, illogical, and stupid. There are so many flaws in the storytelling that I don't even feel ...\n",
            "Actual Sentiment: negative\n",
            "Predicted Sentiment: negative\n",
            "--------------------------------------------------\n",
            "Sentence 45582: planktonrules comments must've been written on Topsy-Turvy Day, because everything stated by that simple life form is the opposite of real truth!<br /><br />'Bluebeard's Eighth Wife' is hilarious in every scene, in every way -- the chemistry between ...\n",
            "Actual Sentiment: positive\n",
            "Predicted Sentiment: positive\n",
            "--------------------------------------------------\n",
            "Sentence 48745: Halloween is one of the best examples of independent film. It's very well made and has more psychological elements to it than you might realize at first glance. It is a simple movie told very well. The music is perfect and is one of the most haunting...\n",
            "Actual Sentiment: positive\n",
            "Predicted Sentiment: positive\n",
            "--------------------------------------------------\n",
            "Sentence 21070: For Anthony Mann the Western was 'legend'- and 'legend' makes the very best cinema! Mann's work was full of intensities and passions, visually dramatic, and the action always excitingly photographed...<br /><br />Stewart, a docile actor with the abil...\n",
            "Actual Sentiment: positive\n",
            "Predicted Sentiment: positive\n",
            "--------------------------------------------------\n",
            "Sentence 3966: I was not expecting much from this movie. I was given a ticket for an advanced screening. I had just gotten off of work. It was hot and I was tired. I had to wait in the movie line for 40 minutes and there seemed not to be any cool air flowing throug...\n",
            "Actual Sentiment: positive\n",
            "Predicted Sentiment: positive\n",
            "--------------------------------------------------\n",
            "Sentence 21885: If you like the excitement of a good submarine drama and the fun of a good comedy, then this film comes highly recommended. Kelsey Grammer gives an excellent performance here.<br /><br />The film also gives you something to think about the next time ...\n",
            "Actual Sentiment: positive\n",
            "Predicted Sentiment: positive\n",
            "--------------------------------------------------\n",
            "Sentence 27937: Stan as a bullfighter, and a good one, is quite a surprise. Usually overshadowed by Oliver Hardy, this silent short allows him to take the lead, and the limelight.<br /><br />One can only draw the conclusion that his character \"Rhubarb Vaselino\" was ...\n",
            "Actual Sentiment: positive\n",
            "Predicted Sentiment: positive\n",
            "--------------------------------------------------\n"
          ]
        }
      ],
      "source": [
        "def predict_sentiment(network, vocab_dict, sequence):\n",
        "    sequence = tokenizer(sequence)\n",
        "    sequence = [vocab_dict.get(word, vocab_dict['<pad>']) for word in sequence]\n",
        "\n",
        "    sequence = torch.tensor([sequence], device=device)\n",
        "    output = network(sequence)\n",
        "    return 'positive' if output > 0.5 else 'negative'\n",
        "\n",
        "# Your vocab dictionary\n",
        "vocab_dict = {token: index for index, token in enumerate(vocab)}\n",
        "\n",
        "# Select 10 random sentences from the dataset\n",
        "random_samples = df.sample(10)\n",
        "\n",
        "# Predict sentiment for each sentence\n",
        "for i, row in random_samples.iterrows():\n",
        "    sentence = row['review']\n",
        "    actual_sentiment = 'positive' if row['sentiment'] == 1 else 'negative'\n",
        "    predicted_sentiment = predict_sentiment(network, vocab_dict, sentence)\n",
        "\n",
        "    print(f\"Sentence {i+1}: {sentence[:250]}...\")\n",
        "    print(f\"Actual Sentiment: {actual_sentiment}\")\n",
        "    print(f\"Predicted Sentiment: {predicted_sentiment}\")\n",
        "    print(\"-\"*50)\n"
      ]
    },
    {
      "cell_type": "code",
      "execution_count": null,
      "metadata": {
        "id": "jsgm4jB_evt2"
      },
      "outputs": [],
      "source": []
    }
  ],
  "metadata": {
    "accelerator": "GPU",
    "colab": {
      "provenance": []
    },
    "kernelspec": {
      "display_name": "Python 3",
      "name": "python3"
    },
    "language_info": {
      "name": "python"
    }
  },
  "nbformat": 4,
  "nbformat_minor": 0
}
